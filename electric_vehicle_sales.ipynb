{
 "cells": [
  {
   "cell_type": "raw",
   "id": "e946e8be-0514-4e90-a034-5c5986b84812",
   "metadata": {},
   "source": [
    "Project on Electric_vechile_sales"
   ]
  },
  {
   "cell_type": "code",
   "execution_count": 1,
   "id": "313cfc94-ce3e-4343-9491-a1c27248165b",
   "metadata": {},
   "outputs": [],
   "source": [
    "#import libararies\n",
    "import pandas as pd\n",
    "import numpy as np\n",
    "import matplotlib.pyplot as plt\n",
    "import seaborn as sns"
   ]
  },
  {
   "cell_type": "code",
   "execution_count": 2,
   "id": "26958a70-b58f-4d8d-b993-0ab26fdc9cde",
   "metadata": {
    "scrolled": true
   },
   "outputs": [],
   "source": [
    "#importing dataset\n",
    "df = pd.read_csv(\"electric_vehicle_sales_by_state.csv\")"
   ]
  },
  {
   "cell_type": "code",
   "execution_count": 3,
   "id": "8841581f-15f0-4b96-98c0-84a0f6d9957c",
   "metadata": {},
   "outputs": [
    {
     "data": {
      "text/html": [
       "<div>\n",
       "<style scoped>\n",
       "    .dataframe tbody tr th:only-of-type {\n",
       "        vertical-align: middle;\n",
       "    }\n",
       "\n",
       "    .dataframe tbody tr th {\n",
       "        vertical-align: top;\n",
       "    }\n",
       "\n",
       "    .dataframe thead th {\n",
       "        text-align: right;\n",
       "    }\n",
       "</style>\n",
       "<table border=\"1\" class=\"dataframe\">\n",
       "  <thead>\n",
       "    <tr style=\"text-align: right;\">\n",
       "      <th></th>\n",
       "      <th>date</th>\n",
       "      <th>state</th>\n",
       "      <th>vehicle_category</th>\n",
       "      <th>electric_vehicles_sold</th>\n",
       "      <th>total_vehicles_sold</th>\n",
       "    </tr>\n",
       "  </thead>\n",
       "  <tbody>\n",
       "    <tr>\n",
       "      <th>0</th>\n",
       "      <td>01-Apr-21</td>\n",
       "      <td>Sikkim</td>\n",
       "      <td>2-Wheelers</td>\n",
       "      <td>0</td>\n",
       "      <td>398</td>\n",
       "    </tr>\n",
       "    <tr>\n",
       "      <th>1</th>\n",
       "      <td>01-Apr-21</td>\n",
       "      <td>Sikkim</td>\n",
       "      <td>4-Wheelers</td>\n",
       "      <td>0</td>\n",
       "      <td>361</td>\n",
       "    </tr>\n",
       "    <tr>\n",
       "      <th>2</th>\n",
       "      <td>01-May-21</td>\n",
       "      <td>Sikkim</td>\n",
       "      <td>2-Wheelers</td>\n",
       "      <td>0</td>\n",
       "      <td>113</td>\n",
       "    </tr>\n",
       "    <tr>\n",
       "      <th>3</th>\n",
       "      <td>01-May-21</td>\n",
       "      <td>Sikkim</td>\n",
       "      <td>4-Wheelers</td>\n",
       "      <td>0</td>\n",
       "      <td>98</td>\n",
       "    </tr>\n",
       "    <tr>\n",
       "      <th>4</th>\n",
       "      <td>01-Jun-21</td>\n",
       "      <td>Sikkim</td>\n",
       "      <td>2-Wheelers</td>\n",
       "      <td>0</td>\n",
       "      <td>229</td>\n",
       "    </tr>\n",
       "  </tbody>\n",
       "</table>\n",
       "</div>"
      ],
      "text/plain": [
       "        date   state vehicle_category  electric_vehicles_sold  \\\n",
       "0  01-Apr-21  Sikkim       2-Wheelers                       0   \n",
       "1  01-Apr-21  Sikkim       4-Wheelers                       0   \n",
       "2  01-May-21  Sikkim       2-Wheelers                       0   \n",
       "3  01-May-21  Sikkim       4-Wheelers                       0   \n",
       "4  01-Jun-21  Sikkim       2-Wheelers                       0   \n",
       "\n",
       "   total_vehicles_sold  \n",
       "0                  398  \n",
       "1                  361  \n",
       "2                  113  \n",
       "3                   98  \n",
       "4                  229  "
      ]
     },
     "execution_count": 3,
     "metadata": {},
     "output_type": "execute_result"
    }
   ],
   "source": [
    "#read the dataset\n",
    "df.head()"
   ]
  },
  {
   "cell_type": "code",
   "execution_count": 4,
   "id": "6e6667ab-7246-4723-abf9-305866991fc5",
   "metadata": {},
   "outputs": [
    {
     "data": {
      "text/plain": [
       "(2445, 5)"
      ]
     },
     "execution_count": 4,
     "metadata": {},
     "output_type": "execute_result"
    }
   ],
   "source": [
    "#checking data size\n",
    "df.shape"
   ]
  },
  {
   "cell_type": "markdown",
   "id": "596e520d-069f-45f5-8b60-0f66c6aa6c49",
   "metadata": {},
   "source": [
    "We can see we have 2445 rows and 5 columns"
   ]
  },
  {
   "cell_type": "code",
   "execution_count": 6,
   "id": "9bb51a4e-db19-4cd9-896a-c56ff1a029f7",
   "metadata": {},
   "outputs": [
    {
     "name": "stdout",
     "output_type": "stream",
     "text": [
      "<class 'pandas.core.frame.DataFrame'>\n",
      "RangeIndex: 2445 entries, 0 to 2444\n",
      "Data columns (total 5 columns):\n",
      " #   Column                  Non-Null Count  Dtype \n",
      "---  ------                  --------------  ----- \n",
      " 0   date                    2445 non-null   object\n",
      " 1   state                   2445 non-null   object\n",
      " 2   vehicle_category        2445 non-null   object\n",
      " 3   electric_vehicles_sold  2445 non-null   int64 \n",
      " 4   total_vehicles_sold     2445 non-null   int64 \n",
      "dtypes: int64(2), object(3)\n",
      "memory usage: 95.6+ KB\n"
     ]
    }
   ],
   "source": [
    "#checking the info of the dataset\n",
    "df.info()"
   ]
  },
  {
   "cell_type": "code",
   "execution_count": 7,
   "id": "89764f90-3d98-4b5f-b4b0-e2d3aa7c4d33",
   "metadata": {},
   "outputs": [
    {
     "name": "stderr",
     "output_type": "stream",
     "text": [
      "/var/folders/5y/fdpz56f55cb6jc5jsgbq17140000gn/T/ipykernel_44742/1694064339.py:2: UserWarning: Could not infer format, so each element will be parsed individually, falling back to `dateutil`. To ensure parsing is consistent and as-expected, please specify a format.\n",
      "  df['date']= pd.to_datetime(df['date'],errors='coerce')\n"
     ]
    }
   ],
   "source": [
    "#we can see date is in object so we can change it to date timeframe.\n",
    "df['date']= pd.to_datetime(df['date'],errors='coerce')"
   ]
  },
  {
   "cell_type": "code",
   "execution_count": 8,
   "id": "cd0d7316-da0d-44d8-a57e-e6255adcbee7",
   "metadata": {},
   "outputs": [
    {
     "name": "stdout",
     "output_type": "stream",
     "text": [
      "           date                     state vehicle_category  \\\n",
      "0    2021-04-01                    Sikkim       2-Wheelers   \n",
      "1    2021-04-01                    Sikkim       4-Wheelers   \n",
      "2    2021-05-01                    Sikkim       2-Wheelers   \n",
      "3    2021-05-01                    Sikkim       4-Wheelers   \n",
      "4    2021-06-01                    Sikkim       2-Wheelers   \n",
      "...         ...                       ...              ...   \n",
      "2440 2024-03-01                   Mizoram       2-Wheelers   \n",
      "2441 2024-03-01                DNH and DD       2-Wheelers   \n",
      "2442 2024-03-01                   Manipur       2-Wheelers   \n",
      "2443 2024-03-01  Andaman & Nicobar Island       2-Wheelers   \n",
      "2444 2024-03-01                  Nagaland       2-Wheelers   \n",
      "\n",
      "      electric_vehicles_sold  total_vehicles_sold  year  \n",
      "0                          0                  398  2021  \n",
      "1                          0                  361  2021  \n",
      "2                          0                  113  2021  \n",
      "3                          0                   98  2021  \n",
      "4                          0                  229  2021  \n",
      "...                      ...                  ...   ...  \n",
      "2440                      58                 1932  2024  \n",
      "2441                      25                  780  2024  \n",
      "2442                      13                 1394  2024  \n",
      "2443                       2                  447  2024  \n",
      "2444                       2                 1180  2024  \n",
      "\n",
      "[2445 rows x 6 columns]\n"
     ]
    }
   ],
   "source": [
    "# Extract the year and create a new column\n",
    "df['year'] = df['date'].dt.year\n",
    "\n",
    "print(df)"
   ]
  },
  {
   "cell_type": "code",
   "execution_count": 9,
   "id": "a64f780c-d33f-49b9-8d7c-05ab86c5e544",
   "metadata": {},
   "outputs": [
    {
     "name": "stdout",
     "output_type": "stream",
     "text": [
      "<class 'pandas.core.frame.DataFrame'>\n",
      "RangeIndex: 2445 entries, 0 to 2444\n",
      "Data columns (total 6 columns):\n",
      " #   Column                  Non-Null Count  Dtype         \n",
      "---  ------                  --------------  -----         \n",
      " 0   date                    2445 non-null   datetime64[ns]\n",
      " 1   state                   2445 non-null   object        \n",
      " 2   vehicle_category        2445 non-null   object        \n",
      " 3   electric_vehicles_sold  2445 non-null   int64         \n",
      " 4   total_vehicles_sold     2445 non-null   int64         \n",
      " 5   year                    2445 non-null   int32         \n",
      "dtypes: datetime64[ns](1), int32(1), int64(2), object(2)\n",
      "memory usage: 105.2+ KB\n"
     ]
    }
   ],
   "source": [
    "#rechecking the info of the dataset\n",
    "df.info()"
   ]
  },
  {
   "cell_type": "markdown",
   "id": "a8ed66ba-c161-49f8-8d47-052ae83421ef",
   "metadata": {},
   "source": [
    "We can see the date has changed from object to datetime."
   ]
  },
  {
   "cell_type": "code",
   "execution_count": 11,
   "id": "6772e7b3-01d6-4f44-a491-bd4b0863c4f5",
   "metadata": {},
   "outputs": [
    {
     "data": {
      "text/plain": [
       "Index(['date', 'state', 'vehicle_category', 'electric_vehicles_sold',\n",
       "       'total_vehicles_sold', 'year'],\n",
       "      dtype='object')"
      ]
     },
     "execution_count": 11,
     "metadata": {},
     "output_type": "execute_result"
    }
   ],
   "source": [
    "#now, checking the columns of the dataset\n",
    "df.columns"
   ]
  },
  {
   "cell_type": "code",
   "execution_count": 12,
   "id": "d53f28d0-2cfa-406d-a9a5-39fd1a79a7dc",
   "metadata": {},
   "outputs": [
    {
     "data": {
      "text/plain": [
       "date                      0\n",
       "state                     0\n",
       "vehicle_category          0\n",
       "electric_vehicles_sold    0\n",
       "total_vehicles_sold       0\n",
       "year                      0\n",
       "dtype: int64"
      ]
     },
     "execution_count": 12,
     "metadata": {},
     "output_type": "execute_result"
    }
   ],
   "source": [
    "#checking the null values of the dataset\n",
    "df.isnull().sum()"
   ]
  },
  {
   "cell_type": "markdown",
   "id": "8bbb819b-7820-4eb8-92a9-a54de1785c8b",
   "metadata": {},
   "source": [
    "We can see there are no null values in the dataset"
   ]
  },
  {
   "cell_type": "code",
   "execution_count": 14,
   "id": "dcfd9515-50e4-49d4-9930-9a066c30ef24",
   "metadata": {},
   "outputs": [
    {
     "data": {
      "text/plain": [
       "date                        36\n",
       "state                       35\n",
       "vehicle_category             2\n",
       "electric_vehicles_sold     921\n",
       "total_vehicles_sold       2225\n",
       "year                         4\n",
       "dtype: int64"
      ]
     },
     "execution_count": 14,
     "metadata": {},
     "output_type": "execute_result"
    }
   ],
   "source": [
    "#checking unique values of the datset\n",
    "df.nunique()"
   ]
  },
  {
   "cell_type": "code",
   "execution_count": 15,
   "id": "a6bbacd6-ea20-4f30-addc-4a68703c3af2",
   "metadata": {},
   "outputs": [
    {
     "data": {
      "text/html": [
       "<div>\n",
       "<style scoped>\n",
       "    .dataframe tbody tr th:only-of-type {\n",
       "        vertical-align: middle;\n",
       "    }\n",
       "\n",
       "    .dataframe tbody tr th {\n",
       "        vertical-align: top;\n",
       "    }\n",
       "\n",
       "    .dataframe thead th {\n",
       "        text-align: right;\n",
       "    }\n",
       "</style>\n",
       "<table border=\"1\" class=\"dataframe\">\n",
       "  <thead>\n",
       "    <tr style=\"text-align: right;\">\n",
       "      <th></th>\n",
       "      <th>date</th>\n",
       "      <th>electric_vehicles_sold</th>\n",
       "      <th>total_vehicles_sold</th>\n",
       "      <th>year</th>\n",
       "    </tr>\n",
       "  </thead>\n",
       "  <tbody>\n",
       "    <tr>\n",
       "      <th>count</th>\n",
       "      <td>2445</td>\n",
       "      <td>2445.000000</td>\n",
       "      <td>2445.000000</td>\n",
       "      <td>2445.000000</td>\n",
       "    </tr>\n",
       "    <tr>\n",
       "      <th>mean</th>\n",
       "      <td>2022-09-15 12:50:56.687116544</td>\n",
       "      <td>845.035174</td>\n",
       "      <td>23402.966053</td>\n",
       "      <td>2022.249080</td>\n",
       "    </tr>\n",
       "    <tr>\n",
       "      <th>min</th>\n",
       "      <td>2021-04-01 00:00:00</td>\n",
       "      <td>0.000000</td>\n",
       "      <td>1.000000</td>\n",
       "      <td>2021.000000</td>\n",
       "    </tr>\n",
       "    <tr>\n",
       "      <th>25%</th>\n",
       "      <td>2022-01-01 00:00:00</td>\n",
       "      <td>2.000000</td>\n",
       "      <td>1158.000000</td>\n",
       "      <td>2022.000000</td>\n",
       "    </tr>\n",
       "    <tr>\n",
       "      <th>50%</th>\n",
       "      <td>2022-09-01 00:00:00</td>\n",
       "      <td>54.000000</td>\n",
       "      <td>6098.000000</td>\n",
       "      <td>2022.000000</td>\n",
       "    </tr>\n",
       "    <tr>\n",
       "      <th>75%</th>\n",
       "      <td>2023-06-01 00:00:00</td>\n",
       "      <td>534.000000</td>\n",
       "      <td>29396.000000</td>\n",
       "      <td>2023.000000</td>\n",
       "    </tr>\n",
       "    <tr>\n",
       "      <th>max</th>\n",
       "      <td>2024-03-01 00:00:00</td>\n",
       "      <td>26668.000000</td>\n",
       "      <td>387983.000000</td>\n",
       "      <td>2024.000000</td>\n",
       "    </tr>\n",
       "    <tr>\n",
       "      <th>std</th>\n",
       "      <td>NaN</td>\n",
       "      <td>2185.167744</td>\n",
       "      <td>38353.266389</td>\n",
       "      <td>0.923265</td>\n",
       "    </tr>\n",
       "  </tbody>\n",
       "</table>\n",
       "</div>"
      ],
      "text/plain": [
       "                                date  electric_vehicles_sold  \\\n",
       "count                           2445             2445.000000   \n",
       "mean   2022-09-15 12:50:56.687116544              845.035174   \n",
       "min              2021-04-01 00:00:00                0.000000   \n",
       "25%              2022-01-01 00:00:00                2.000000   \n",
       "50%              2022-09-01 00:00:00               54.000000   \n",
       "75%              2023-06-01 00:00:00              534.000000   \n",
       "max              2024-03-01 00:00:00            26668.000000   \n",
       "std                              NaN             2185.167744   \n",
       "\n",
       "       total_vehicles_sold         year  \n",
       "count          2445.000000  2445.000000  \n",
       "mean          23402.966053  2022.249080  \n",
       "min               1.000000  2021.000000  \n",
       "25%            1158.000000  2022.000000  \n",
       "50%            6098.000000  2022.000000  \n",
       "75%           29396.000000  2023.000000  \n",
       "max          387983.000000  2024.000000  \n",
       "std           38353.266389     0.923265  "
      ]
     },
     "execution_count": 15,
     "metadata": {},
     "output_type": "execute_result"
    }
   ],
   "source": [
    "#now checking the statisctics of the dataset\n",
    "df.describe()"
   ]
  },
  {
   "cell_type": "code",
   "execution_count": 16,
   "id": "75ac7b27-f773-43f1-b9dd-1683f85b1176",
   "metadata": {},
   "outputs": [
    {
     "data": {
      "text/html": [
       "<pre style=\"white-space:pre;overflow-x:auto;line-height:normal;font-family:Menlo,'DejaVu Sans Mono',consolas,'Courier New',monospace\">╭──────────────────────────────────────────────── skimpy summary ─────────────────────────────────────────────────╮\n",
       "│ <span style=\"font-style: italic\">         Data Summary         </span> <span style=\"font-style: italic\">      Data Types       </span>                                                          │\n",
       "│ ┏━━━━━━━━━━━━━━━━━━━┳━━━━━━━━┓ ┏━━━━━━━━━━━━━┳━━━━━━━┓                                                          │\n",
       "│ ┃<span style=\"color: #008080; text-decoration-color: #008080; font-weight: bold\"> dataframe         </span>┃<span style=\"color: #008080; text-decoration-color: #008080; font-weight: bold\"> Values </span>┃ ┃<span style=\"color: #008080; text-decoration-color: #008080; font-weight: bold\"> Column Type </span>┃<span style=\"color: #008080; text-decoration-color: #008080; font-weight: bold\"> Count </span>┃                                                          │\n",
       "│ ┡━━━━━━━━━━━━━━━━━━━╇━━━━━━━━┩ ┡━━━━━━━━━━━━━╇━━━━━━━┩                                                          │\n",
       "│ │ Number of rows    │ 2445   │ │ int64       │ 3     │                                                          │\n",
       "│ │ Number of columns │ 6      │ │ string      │ 2     │                                                          │\n",
       "│ └───────────────────┴────────┘ │ datetime64  │ 1     │                                                          │\n",
       "│                                └─────────────┴───────┘                                                          │\n",
       "│ <span style=\"font-style: italic\">                                                    number                                                    </span>  │\n",
       "│ ┏━━━━━━━━━━━━━━━━━━━━━━━━━┳━━━━━┳━━━━━━━┳━━━━━━━━┳━━━━━━━━━┳━━━━━━━┳━━━━━━━┳━━━━━━━┳━━━━━━━┳━━━━━━━━┳━━━━━━━━┓  │\n",
       "│ ┃<span style=\"font-weight: bold\"> column_name             </span>┃<span style=\"font-weight: bold\"> NA  </span>┃<span style=\"font-weight: bold\"> NA %  </span>┃<span style=\"font-weight: bold\"> mean   </span>┃<span style=\"font-weight: bold\"> sd      </span>┃<span style=\"font-weight: bold\"> p0    </span>┃<span style=\"font-weight: bold\"> p25   </span>┃<span style=\"font-weight: bold\"> p50   </span>┃<span style=\"font-weight: bold\"> p75   </span>┃<span style=\"font-weight: bold\"> p100   </span>┃<span style=\"font-weight: bold\"> hist   </span>┃  │\n",
       "│ ┡━━━━━━━━━━━━━━━━━━━━━━━━━╇━━━━━╇━━━━━━━╇━━━━━━━━╇━━━━━━━━━╇━━━━━━━╇━━━━━━━╇━━━━━━━╇━━━━━━━╇━━━━━━━━╇━━━━━━━━┩  │\n",
       "│ │ <span style=\"color: #af87ff; text-decoration-color: #af87ff\">electric_vehicles_sold </span> │ <span style=\"color: #008080; text-decoration-color: #008080\">  0</span> │ <span style=\"color: #008080; text-decoration-color: #008080\">    0</span> │ <span style=\"color: #008080; text-decoration-color: #008080\">   845</span> │ <span style=\"color: #008080; text-decoration-color: #008080\">   2185</span> │ <span style=\"color: #008080; text-decoration-color: #008080\">    0</span> │ <span style=\"color: #008080; text-decoration-color: #008080\">    2</span> │ <span style=\"color: #008080; text-decoration-color: #008080\">   54</span> │ <span style=\"color: #008080; text-decoration-color: #008080\">  534</span> │ <span style=\"color: #008080; text-decoration-color: #008080\"> 26670</span> │ <span style=\"color: #008000; text-decoration-color: #008000\">  ▇   </span> │  │\n",
       "│ │ <span style=\"color: #af87ff; text-decoration-color: #af87ff\">total_vehicles_sold    </span> │ <span style=\"color: #008080; text-decoration-color: #008080\">  0</span> │ <span style=\"color: #008080; text-decoration-color: #008080\">    0</span> │ <span style=\"color: #008080; text-decoration-color: #008080\"> 23400</span> │ <span style=\"color: #008080; text-decoration-color: #008080\">  38350</span> │ <span style=\"color: #008080; text-decoration-color: #008080\">    1</span> │ <span style=\"color: #008080; text-decoration-color: #008080\"> 1158</span> │ <span style=\"color: #008080; text-decoration-color: #008080\"> 6098</span> │ <span style=\"color: #008080; text-decoration-color: #008080\">29400</span> │ <span style=\"color: #008080; text-decoration-color: #008080\">388000</span> │ <span style=\"color: #008000; text-decoration-color: #008000\">  ▇▁  </span> │  │\n",
       "│ │ <span style=\"color: #af87ff; text-decoration-color: #af87ff\">year                   </span> │ <span style=\"color: #008080; text-decoration-color: #008080\">  0</span> │ <span style=\"color: #008080; text-decoration-color: #008080\">    0</span> │ <span style=\"color: #008080; text-decoration-color: #008080\">  2022</span> │ <span style=\"color: #008080; text-decoration-color: #008080\"> 0.9233</span> │ <span style=\"color: #008080; text-decoration-color: #008080\"> 2021</span> │ <span style=\"color: #008080; text-decoration-color: #008080\"> 2022</span> │ <span style=\"color: #008080; text-decoration-color: #008080\"> 2022</span> │ <span style=\"color: #008080; text-decoration-color: #008080\"> 2023</span> │ <span style=\"color: #008080; text-decoration-color: #008080\">  2024</span> │ <span style=\"color: #008000; text-decoration-color: #008000\">▆ ▇ ▇▂</span> │  │\n",
       "│ └─────────────────────────┴─────┴───────┴────────┴─────────┴───────┴───────┴───────┴───────┴────────┴────────┘  │\n",
       "│ <span style=\"font-style: italic\">                                                   datetime                                                   </span>  │\n",
       "│ ┏━━━━━━━━━━━━━━━━━━━━━━━━┳━━━━━━━━┳━━━━━━━━━━━┳━━━━━━━━━━━━━━━━━━━━━┳━━━━━━━━━━━━━━━━━━━━━┳━━━━━━━━━━━━━━━━━━┓  │\n",
       "│ ┃<span style=\"font-weight: bold\"> column_name            </span>┃<span style=\"font-weight: bold\"> NA     </span>┃<span style=\"font-weight: bold\"> NA %      </span>┃<span style=\"font-weight: bold\"> first               </span>┃<span style=\"font-weight: bold\"> last                </span>┃<span style=\"font-weight: bold\"> frequency        </span>┃  │\n",
       "│ ┡━━━━━━━━━━━━━━━━━━━━━━━━╇━━━━━━━━╇━━━━━━━━━━━╇━━━━━━━━━━━━━━━━━━━━━╇━━━━━━━━━━━━━━━━━━━━━╇━━━━━━━━━━━━━━━━━━┩  │\n",
       "│ │ <span style=\"color: #af87ff; text-decoration-color: #af87ff\">date                  </span> │ <span style=\"color: #008080; text-decoration-color: #008080\">     0</span> │ <span style=\"color: #008080; text-decoration-color: #008080\">        0</span> │ <span style=\"color: #800000; text-decoration-color: #800000\">    2021-04-01     </span> │ <span style=\"color: #800000; text-decoration-color: #800000\">    2024-03-01     </span> │ <span style=\"color: #af87ff; text-decoration-color: #af87ff\">None            </span> │  │\n",
       "│ └────────────────────────┴────────┴───────────┴─────────────────────┴─────────────────────┴──────────────────┘  │\n",
       "│ <span style=\"font-style: italic\">                                                    string                                                    </span>  │\n",
       "│ ┏━━━━━━━━━━━━━━━━━━━━━━━━━━━━━━━━━━┳━━━━━━━━┳━━━━━━━━━━━┳━━━━━━━━━━━━━━━━━━━━━━━━━━━━┳━━━━━━━━━━━━━━━━━━━━━━━┓  │\n",
       "│ ┃<span style=\"font-weight: bold\"> column_name                      </span>┃<span style=\"font-weight: bold\"> NA     </span>┃<span style=\"font-weight: bold\"> NA %      </span>┃<span style=\"font-weight: bold\"> words per row              </span>┃<span style=\"font-weight: bold\"> total words           </span>┃  │\n",
       "│ ┡━━━━━━━━━━━━━━━━━━━━━━━━━━━━━━━━━━╇━━━━━━━━╇━━━━━━━━━━━╇━━━━━━━━━━━━━━━━━━━━━━━━━━━━╇━━━━━━━━━━━━━━━━━━━━━━━┩  │\n",
       "│ │ <span style=\"color: #af87ff; text-decoration-color: #af87ff\">state                           </span> │ <span style=\"color: #008080; text-decoration-color: #008080\">     0</span> │ <span style=\"color: #008080; text-decoration-color: #008080\">        0</span> │ <span style=\"color: #008080; text-decoration-color: #008080\">                       1.4</span> │ <span style=\"color: #008080; text-decoration-color: #008080\">                 3448</span> │  │\n",
       "│ │ <span style=\"color: #af87ff; text-decoration-color: #af87ff\">vehicle_category                </span> │ <span style=\"color: #008080; text-decoration-color: #008080\">     0</span> │ <span style=\"color: #008080; text-decoration-color: #008080\">        0</span> │ <span style=\"color: #008080; text-decoration-color: #008080\">                         1</span> │ <span style=\"color: #008080; text-decoration-color: #008080\">                 2445</span> │  │\n",
       "│ └──────────────────────────────────┴────────┴───────────┴────────────────────────────┴───────────────────────┘  │\n",
       "╰────────────────────────────────────────────────────── End ──────────────────────────────────────────────────────╯\n",
       "</pre>\n"
      ],
      "text/plain": [
       "╭──────────────────────────────────────────────── skimpy summary ─────────────────────────────────────────────────╮\n",
       "│ \u001b[3m         Data Summary         \u001b[0m \u001b[3m      Data Types       \u001b[0m                                                          │\n",
       "│ ┏━━━━━━━━━━━━━━━━━━━┳━━━━━━━━┓ ┏━━━━━━━━━━━━━┳━━━━━━━┓                                                          │\n",
       "│ ┃\u001b[1;36m \u001b[0m\u001b[1;36mdataframe        \u001b[0m\u001b[1;36m \u001b[0m┃\u001b[1;36m \u001b[0m\u001b[1;36mValues\u001b[0m\u001b[1;36m \u001b[0m┃ ┃\u001b[1;36m \u001b[0m\u001b[1;36mColumn Type\u001b[0m\u001b[1;36m \u001b[0m┃\u001b[1;36m \u001b[0m\u001b[1;36mCount\u001b[0m\u001b[1;36m \u001b[0m┃                                                          │\n",
       "│ ┡━━━━━━━━━━━━━━━━━━━╇━━━━━━━━┩ ┡━━━━━━━━━━━━━╇━━━━━━━┩                                                          │\n",
       "│ │ Number of rows    │ 2445   │ │ int64       │ 3     │                                                          │\n",
       "│ │ Number of columns │ 6      │ │ string      │ 2     │                                                          │\n",
       "│ └───────────────────┴────────┘ │ datetime64  │ 1     │                                                          │\n",
       "│                                └─────────────┴───────┘                                                          │\n",
       "│ \u001b[3m                                                    number                                                    \u001b[0m  │\n",
       "│ ┏━━━━━━━━━━━━━━━━━━━━━━━━━┳━━━━━┳━━━━━━━┳━━━━━━━━┳━━━━━━━━━┳━━━━━━━┳━━━━━━━┳━━━━━━━┳━━━━━━━┳━━━━━━━━┳━━━━━━━━┓  │\n",
       "│ ┃\u001b[1m \u001b[0m\u001b[1mcolumn_name            \u001b[0m\u001b[1m \u001b[0m┃\u001b[1m \u001b[0m\u001b[1mNA \u001b[0m\u001b[1m \u001b[0m┃\u001b[1m \u001b[0m\u001b[1mNA % \u001b[0m\u001b[1m \u001b[0m┃\u001b[1m \u001b[0m\u001b[1mmean  \u001b[0m\u001b[1m \u001b[0m┃\u001b[1m \u001b[0m\u001b[1msd     \u001b[0m\u001b[1m \u001b[0m┃\u001b[1m \u001b[0m\u001b[1mp0   \u001b[0m\u001b[1m \u001b[0m┃\u001b[1m \u001b[0m\u001b[1mp25  \u001b[0m\u001b[1m \u001b[0m┃\u001b[1m \u001b[0m\u001b[1mp50  \u001b[0m\u001b[1m \u001b[0m┃\u001b[1m \u001b[0m\u001b[1mp75  \u001b[0m\u001b[1m \u001b[0m┃\u001b[1m \u001b[0m\u001b[1mp100  \u001b[0m\u001b[1m \u001b[0m┃\u001b[1m \u001b[0m\u001b[1mhist  \u001b[0m\u001b[1m \u001b[0m┃  │\n",
       "│ ┡━━━━━━━━━━━━━━━━━━━━━━━━━╇━━━━━╇━━━━━━━╇━━━━━━━━╇━━━━━━━━━╇━━━━━━━╇━━━━━━━╇━━━━━━━╇━━━━━━━╇━━━━━━━━╇━━━━━━━━┩  │\n",
       "│ │ \u001b[38;5;141melectric_vehicles_sold \u001b[0m │ \u001b[36m  0\u001b[0m │ \u001b[36m    0\u001b[0m │ \u001b[36m   845\u001b[0m │ \u001b[36m   2185\u001b[0m │ \u001b[36m    0\u001b[0m │ \u001b[36m    2\u001b[0m │ \u001b[36m   54\u001b[0m │ \u001b[36m  534\u001b[0m │ \u001b[36m 26670\u001b[0m │ \u001b[32m  ▇   \u001b[0m │  │\n",
       "│ │ \u001b[38;5;141mtotal_vehicles_sold    \u001b[0m │ \u001b[36m  0\u001b[0m │ \u001b[36m    0\u001b[0m │ \u001b[36m 23400\u001b[0m │ \u001b[36m  38350\u001b[0m │ \u001b[36m    1\u001b[0m │ \u001b[36m 1158\u001b[0m │ \u001b[36m 6098\u001b[0m │ \u001b[36m29400\u001b[0m │ \u001b[36m388000\u001b[0m │ \u001b[32m  ▇▁  \u001b[0m │  │\n",
       "│ │ \u001b[38;5;141myear                   \u001b[0m │ \u001b[36m  0\u001b[0m │ \u001b[36m    0\u001b[0m │ \u001b[36m  2022\u001b[0m │ \u001b[36m 0.9233\u001b[0m │ \u001b[36m 2021\u001b[0m │ \u001b[36m 2022\u001b[0m │ \u001b[36m 2022\u001b[0m │ \u001b[36m 2023\u001b[0m │ \u001b[36m  2024\u001b[0m │ \u001b[32m▆ ▇ ▇▂\u001b[0m │  │\n",
       "│ └─────────────────────────┴─────┴───────┴────────┴─────────┴───────┴───────┴───────┴───────┴────────┴────────┘  │\n",
       "│ \u001b[3m                                                   datetime                                                   \u001b[0m  │\n",
       "│ ┏━━━━━━━━━━━━━━━━━━━━━━━━┳━━━━━━━━┳━━━━━━━━━━━┳━━━━━━━━━━━━━━━━━━━━━┳━━━━━━━━━━━━━━━━━━━━━┳━━━━━━━━━━━━━━━━━━┓  │\n",
       "│ ┃\u001b[1m \u001b[0m\u001b[1mcolumn_name           \u001b[0m\u001b[1m \u001b[0m┃\u001b[1m \u001b[0m\u001b[1mNA    \u001b[0m\u001b[1m \u001b[0m┃\u001b[1m \u001b[0m\u001b[1mNA %     \u001b[0m\u001b[1m \u001b[0m┃\u001b[1m \u001b[0m\u001b[1mfirst              \u001b[0m\u001b[1m \u001b[0m┃\u001b[1m \u001b[0m\u001b[1mlast               \u001b[0m\u001b[1m \u001b[0m┃\u001b[1m \u001b[0m\u001b[1mfrequency       \u001b[0m\u001b[1m \u001b[0m┃  │\n",
       "│ ┡━━━━━━━━━━━━━━━━━━━━━━━━╇━━━━━━━━╇━━━━━━━━━━━╇━━━━━━━━━━━━━━━━━━━━━╇━━━━━━━━━━━━━━━━━━━━━╇━━━━━━━━━━━━━━━━━━┩  │\n",
       "│ │ \u001b[38;5;141mdate                  \u001b[0m │ \u001b[36m     0\u001b[0m │ \u001b[36m        0\u001b[0m │ \u001b[31m    2021-04-01     \u001b[0m │ \u001b[31m    2024-03-01     \u001b[0m │ \u001b[38;5;141mNone            \u001b[0m │  │\n",
       "│ └────────────────────────┴────────┴───────────┴─────────────────────┴─────────────────────┴──────────────────┘  │\n",
       "│ \u001b[3m                                                    string                                                    \u001b[0m  │\n",
       "│ ┏━━━━━━━━━━━━━━━━━━━━━━━━━━━━━━━━━━┳━━━━━━━━┳━━━━━━━━━━━┳━━━━━━━━━━━━━━━━━━━━━━━━━━━━┳━━━━━━━━━━━━━━━━━━━━━━━┓  │\n",
       "│ ┃\u001b[1m \u001b[0m\u001b[1mcolumn_name                     \u001b[0m\u001b[1m \u001b[0m┃\u001b[1m \u001b[0m\u001b[1mNA    \u001b[0m\u001b[1m \u001b[0m┃\u001b[1m \u001b[0m\u001b[1mNA %     \u001b[0m\u001b[1m \u001b[0m┃\u001b[1m \u001b[0m\u001b[1mwords per row             \u001b[0m\u001b[1m \u001b[0m┃\u001b[1m \u001b[0m\u001b[1mtotal words          \u001b[0m\u001b[1m \u001b[0m┃  │\n",
       "│ ┡━━━━━━━━━━━━━━━━━━━━━━━━━━━━━━━━━━╇━━━━━━━━╇━━━━━━━━━━━╇━━━━━━━━━━━━━━━━━━━━━━━━━━━━╇━━━━━━━━━━━━━━━━━━━━━━━┩  │\n",
       "│ │ \u001b[38;5;141mstate                           \u001b[0m │ \u001b[36m     0\u001b[0m │ \u001b[36m        0\u001b[0m │ \u001b[36m                       1.4\u001b[0m │ \u001b[36m                 3448\u001b[0m │  │\n",
       "│ │ \u001b[38;5;141mvehicle_category                \u001b[0m │ \u001b[36m     0\u001b[0m │ \u001b[36m        0\u001b[0m │ \u001b[36m                         1\u001b[0m │ \u001b[36m                 2445\u001b[0m │  │\n",
       "│ └──────────────────────────────────┴────────┴───────────┴────────────────────────────┴───────────────────────┘  │\n",
       "╰────────────────────────────────────────────────────── End ──────────────────────────────────────────────────────╯\n"
      ]
     },
     "metadata": {},
     "output_type": "display_data"
    }
   ],
   "source": [
    "from skimpy import skim\n",
    "skim(df)"
   ]
  },
  {
   "cell_type": "code",
   "execution_count": 17,
   "id": "2d98b779-378a-407f-b0b6-e658dc2bff53",
   "metadata": {},
   "outputs": [],
   "source": [
    "#for i in df.columns:\n",
    "    #print(df[i].value_counts())"
   ]
  },
  {
   "cell_type": "code",
   "execution_count": 18,
   "id": "d93118fb-d7ad-4755-8bfb-e80fa7254973",
   "metadata": {},
   "outputs": [
    {
     "name": "stdout",
     "output_type": "stream",
     "text": [
      "<pandas.core.groupby.generic.DataFrameGroupBy object at 0x15985eb90>\n"
     ]
    }
   ],
   "source": [
    "#let's review the data further\n",
    "mask= df.groupby(\"vehicle_category\")\n",
    "print(mask)"
   ]
  },
  {
   "cell_type": "code",
   "execution_count": 19,
   "id": "6b72d86b-5a46-4bdc-a901-c6a42122d491",
   "metadata": {},
   "outputs": [
    {
     "data": {
      "text/plain": [
       "vehicle_category\n",
       "2-Wheelers    46918768\n",
       "4-Wheelers    10301484\n",
       "Name: total_vehicles_sold, dtype: int64"
      ]
     },
     "execution_count": 19,
     "metadata": {},
     "output_type": "execute_result"
    }
   ],
   "source": [
    "mask[\"total_vehicles_sold\"].sum()"
   ]
  },
  {
   "cell_type": "code",
   "execution_count": 20,
   "id": "3c47548a-29c8-4a49-90d9-80e8710704c5",
   "metadata": {},
   "outputs": [
    {
     "data": {
      "text/plain": [
       "Text(0.5, 1.0, 'Count of the total_vehicles_sold')"
      ]
     },
     "execution_count": 20,
     "metadata": {},
     "output_type": "execute_result"
    },
    {
     "data": {
      "image/png": "[encoded data removed]",
      "text/plain": [
       "<Figure size 640x480 with 1 Axes>"
      ]
     },
     "metadata": {},
     "output_type": "display_data"
    }
   ],
   "source": [
    "#let's visulaize the above details \n",
    "sns.countplot(df,x=mask[\"total_vehicles_sold\"].sum())\n",
    "plt.title(\"Count of the total_vehicles_sold\")"
   ]
  },
  {
   "cell_type": "markdown",
   "id": "4373c82b-260c-4f56-96a9-185caca59de2",
   "metadata": {},
   "source": [
    "we can interperet that for vehicle 2-Wheelers was sold maximum."
   ]
  },
  {
   "cell_type": "code",
   "execution_count": 22,
   "id": "41a8c5a8-40d8-4cca-b777-3498ed724478",
   "metadata": {},
   "outputs": [
    {
     "name": "stderr",
     "output_type": "stream",
     "text": [
      "/opt/anaconda3/lib/python3.11/site-packages/seaborn/_oldcore.py:1119: FutureWarning: use_inf_as_na option is deprecated and will be removed in a future version. Convert inf values to NaN before operating instead.\n",
      "  with pd.option_context('mode.use_inf_as_na', True):\n"
     ]
    },
    {
     "data": {
      "text/plain": [
       "<seaborn.axisgrid.FacetGrid at 0x158b68ed0>"
      ]
     },
     "execution_count": 22,
     "metadata": {},
     "output_type": "execute_result"
    },
    {
     "data": {
      "image/png": "[encoded data removed]",
      "text/plain": [
       "<Figure size 629.111x500 with 1 Axes>"
      ]
     },
     "metadata": {},
     "output_type": "display_data"
    }
   ],
   "source": [
    "sns.displot(data=df, x=\"total_vehicles_sold\", hue=\"vehicle_category\", kind=\"kde\")"
   ]
  },
  {
   "cell_type": "code",
   "execution_count": 23,
   "id": "c4b23e3e-a8df-43f3-b294-06404cce752f",
   "metadata": {},
   "outputs": [
    {
     "name": "stderr",
     "output_type": "stream",
     "text": [
      "/opt/anaconda3/lib/python3.11/site-packages/seaborn/_oldcore.py:1119: FutureWarning: use_inf_as_na option is deprecated and will be removed in a future version. Convert inf values to NaN before operating instead.\n",
      "  with pd.option_context('mode.use_inf_as_na', True):\n"
     ]
    },
    {
     "data": {
      "text/plain": [
       "<seaborn.axisgrid.FacetGrid at 0x159902350>"
      ]
     },
     "execution_count": 23,
     "metadata": {},
     "output_type": "execute_result"
    },
    {
     "data": {
      "image/png": "[encoded data removed]",
      "text/plain": [
       "<Figure size 629.111x500 with 1 Axes>"
      ]
     },
     "metadata": {},
     "output_type": "display_data"
    }
   ],
   "source": [
    "sns.displot(data=df, x=\"electric_vehicles_sold\", hue=\"vehicle_category\", kind=\"kde\")"
   ]
  },
  {
   "cell_type": "code",
   "execution_count": 24,
   "id": "8d12146a-6cd1-43d6-9437-5982b4a6f150",
   "metadata": {},
   "outputs": [
    {
     "data": {
      "text/plain": [
       "vehicle_category\n",
       "2-Wheelers    1913168\n",
       "4-Wheelers     152943\n",
       "Name: electric_vehicles_sold, dtype: int64"
      ]
     },
     "execution_count": 24,
     "metadata": {},
     "output_type": "execute_result"
    }
   ],
   "source": [
    "mask[\"electric_vehicles_sold\"].sum()"
   ]
  },
  {
   "cell_type": "markdown",
   "id": "890ecfcd-987a-4718-a811-3afa69a9f040",
   "metadata": {},
   "source": [
    "we can interperet that for vehicle 2-Wheelers was sold maximum."
   ]
  },
  {
   "cell_type": "code",
   "execution_count": 26,
   "id": "6f0bebfe-9a00-42ad-85e0-6a745f6b326b",
   "metadata": {},
   "outputs": [
    {
     "data": {
      "text/plain": [
       "Text(0.5, 1.0, 'Total_electric_vechiles_sold')"
      ]
     },
     "execution_count": 26,
     "metadata": {},
     "output_type": "execute_result"
    },
    {
     "data": {
      "image/png": "[encoded data removed]",
      "text/plain": [
       "<Figure size 640x480 with 1 Axes>"
      ]
     },
     "metadata": {},
     "output_type": "display_data"
    }
   ],
   "source": [
    "sns.countplot(data=df,x=mask[\"electric_vehicles_sold\"].sum())\n",
    "plt.title(\"Total_electric_vechiles_sold\")"
   ]
  },
  {
   "cell_type": "code",
   "execution_count": 27,
   "id": "61b056d0-0569-47cf-b995-19656a5610e2",
   "metadata": {},
   "outputs": [
    {
     "name": "stdout",
     "output_type": "stream",
     "text": [
      "state\n",
      "Maharashtra                 396045\n",
      "Karnataka                   312995\n",
      "Tamil Nadu                  200062\n",
      "Gujarat                     181389\n",
      "Rajasthan                   150366\n",
      "Kerala                      137060\n",
      "Delhi                       107312\n",
      "Uttar Pradesh                95203\n",
      "Madhya Pradesh               78979\n",
      "Odisha                       78267\n",
      "Andhra Pradesh               77422\n",
      "Chhattisgarh                 53804\n",
      "Bihar                        31019\n",
      "Haryana                      30797\n",
      "West Bengal                  30560\n",
      "Punjab                       23833\n",
      "Goa                          19684\n",
      "Jharkhand                    18461\n",
      "Uttarakhand                  15127\n",
      "Assam                         6418\n",
      "Jammu and Kashmir             5971\n",
      "Puducherry                    5536\n",
      "Chandigarh                    5279\n",
      "Himachal Pradesh              2595\n",
      "Tripura                        562\n",
      "DNH and DD                     355\n",
      "Mizoram                        340\n",
      "Manipur                        299\n",
      "Meghalaya                      177\n",
      "Andaman & Nicobar Island        78\n",
      "Ladakh                          68\n",
      "Arunachal Pradesh               33\n",
      "Nagaland                        13\n",
      "Andaman & Nicobar                2\n",
      "Sikkim                           0\n",
      "Name: electric_vehicles_sold, dtype: int64\n"
     ]
    }
   ],
   "source": [
    "highest_state_with_ev_sale= df.groupby(\"state\")[\"electric_vehicles_sold\"].sum().sort_values(ascending=False)\n",
    "print(highest_state_with_ev_sale)"
   ]
  },
  {
   "cell_type": "code",
   "execution_count": 28,
   "id": "109274c5-aae1-4a89-b6ef-a7877b42d2fb",
   "metadata": {},
   "outputs": [
    {
     "data": {
      "text/plain": [
       "Text(0, 0.5, 'Electric Vehicles Sold')"
      ]
     },
     "execution_count": 28,
     "metadata": {},
     "output_type": "execute_result"
    },
    {
     "data": {
      "image/png": "[encoded data removed]",
      "text/plain": [
       "<Figure size 1000x600 with 1 Axes>"
      ]
     },
     "metadata": {},
     "output_type": "display_data"
    }
   ],
   "source": [
    "# Assuming 'highest_state_with_ev_sale' is already calculated\n",
    "top_10_states = highest_state_with_ev_sale.head(10)\n",
    "\n",
    "# Create a bar plot\n",
    "plt.figure(figsize=(10, 6))\n",
    "top_10_states.plot(kind='bar', color='green')\n",
    "\n",
    "# Adding titles and labels\n",
    "plt.title('Top 10 States by Electric Vehicles Sold', fontsize=16)\n",
    "plt.xlabel('State', fontsize=12)\n",
    "plt.ylabel('Electric Vehicles Sold', fontsize=12)"
   ]
  },
  {
   "cell_type": "code",
   "execution_count": 29,
   "id": "6fc2deab-9854-4ae9-ac3f-7e5c6a9ea1e8",
   "metadata": {},
   "outputs": [
    {
     "data": {
      "text/plain": [
       "state\n",
       "Maharashtra    396045\n",
       "Karnataka      312995\n",
       "Tamil Nadu     200062\n",
       "Gujarat        181389\n",
       "Rajasthan      150366\n",
       "Name: electric_vehicles_sold, dtype: int64"
      ]
     },
     "execution_count": 29,
     "metadata": {},
     "output_type": "execute_result"
    }
   ],
   "source": [
    "highest_state_with_ev_sale.head()"
   ]
  },
  {
   "cell_type": "code",
   "execution_count": 30,
   "id": "5b385700-a464-4851-b01f-f27540ae4615",
   "metadata": {},
   "outputs": [
    {
     "name": "stdout",
     "output_type": "stream",
     "text": [
      "state\n",
      "Uttar Pradesh               8127084\n",
      "Maharashtra                 6101429\n",
      "Tamil Nadu                  4652363\n",
      "Gujarat                     4125551\n",
      "Karnataka                   3994329\n",
      "Madhya Pradesh              3498698\n",
      "Rajasthan                   3307591\n",
      "Bihar                       3048373\n",
      "West Bengal                 2736176\n",
      "Andhra Pradesh              2283871\n",
      "Kerala                      2064677\n",
      "Haryana                     1902768\n",
      "Odisha                      1688794\n",
      "Delhi                       1588436\n",
      "Punjab                      1543962\n",
      "Assam                       1403271\n",
      "Jharkhand                   1364886\n",
      "Chhattisgarh                1334989\n",
      "Uttarakhand                  622707\n",
      "Jammu and Kashmir            414553\n",
      "Himachal Pradesh             325366\n",
      "Goa                          199970\n",
      "Puducherry                   150798\n",
      "Chandigarh                   130628\n",
      "Tripura                      125216\n",
      "Manipur                      104513\n",
      "Meghalaya                     90183\n",
      "Arunachal Pradesh             71547\n",
      "Mizoram                       71307\n",
      "Nagaland                      44092\n",
      "DNH and DD                    43397\n",
      "Sikkim                        29346\n",
      "Andaman & Nicobar Island      18225\n",
      "Ladakh                        10496\n",
      "Andaman & Nicobar               660\n",
      "Name: total_vehicles_sold, dtype: int64\n"
     ]
    }
   ],
   "source": [
    "highest_state_with_sale= df.groupby(\"state\")[\"total_vehicles_sold\"].sum().sort_values(ascending=False)\n",
    "print(highest_state_with_sale)"
   ]
  },
  {
   "cell_type": "code",
   "execution_count": 31,
   "id": "6e602611-f4aa-4361-89a6-63c2b4761d55",
   "metadata": {},
   "outputs": [
    {
     "data": {
      "text/plain": [
       "year\n",
       "2023    936957\n",
       "2022    669260\n",
       "2024    316705\n",
       "2021    143189\n",
       "Name: electric_vehicles_sold, dtype: int64"
      ]
     },
     "execution_count": 31,
     "metadata": {},
     "output_type": "execute_result"
    }
   ],
   "source": [
    "df.groupby(\"year\")[\"electric_vehicles_sold\"].sum().sort_values(ascending=False)"
   ]
  },
  {
   "cell_type": "code",
   "execution_count": 32,
   "id": "896abb1e-653b-4b29-8b5e-f0d675bf5dd7",
   "metadata": {},
   "outputs": [
    {
     "data": {
      "text/plain": [
       "year\n",
       "2023    20782055\n",
       "2022    19030556\n",
       "2021    12051170\n",
       "2024     5356471\n",
       "Name: total_vehicles_sold, dtype: int64"
      ]
     },
     "execution_count": 32,
     "metadata": {},
     "output_type": "execute_result"
    }
   ],
   "source": [
    "df.groupby(\"year\")[\"total_vehicles_sold\"].sum().sort_values(ascending=False)"
   ]
  },
  {
   "cell_type": "code",
   "execution_count": 33,
   "id": "a3f6a0a9-77e9-4cfa-85d4-d29e06974004",
   "metadata": {},
   "outputs": [
    {
     "name": "stdout",
     "output_type": "stream",
     "text": [
      "vehicle_category  2-Wheelers  4-Wheelers\n",
      "year                                    \n",
      "2021                  132331       10858\n",
      "2022                  631090       38170\n",
      "2023                  856836       80121\n",
      "2024                  292911       23794\n"
     ]
    }
   ],
   "source": [
    "df_mask= pd.pivot_table(df,index=\"year\", columns= \"vehicle_category\", values=\"electric_vehicles_sold\" , aggfunc=\"sum\")\n",
    "print(df_mask)"
   ]
  },
  {
   "cell_type": "code",
   "execution_count": 34,
   "id": "d788cc46-a9c9-41bf-ade1-080eb0337492",
   "metadata": {},
   "outputs": [
    {
     "data": {
      "text/plain": [
       "<Axes: xlabel='vehicle_category', ylabel='year'>"
      ]
     },
     "execution_count": 34,
     "metadata": {},
     "output_type": "execute_result"
    },
    {
     "data": {
      "image/png": "[encoded data removed]",
      "text/plain": [
       "<Figure size 640x480 with 2 Axes>"
      ]
     },
     "metadata": {},
     "output_type": "display_data"
    }
   ],
   "source": [
    "#let's draw the heatmap for the above pivot_table\n",
    "sns.heatmap(df_mask, annot=True, fmt=\".1f\",cmap=\"crest\")"
   ]
  },
  {
   "cell_type": "code",
   "execution_count": 35,
   "id": "d5ce17c4-ee16-4421-9715-b7e0f23d55df",
   "metadata": {},
   "outputs": [
    {
     "name": "stdout",
     "output_type": "stream",
     "text": [
      "vehicle_category  2-Wheelers  4-Wheelers\n",
      "year                                    \n",
      "2021                 9956997     2094173\n",
      "2022                15576845     3453711\n",
      "2023                17029004     3753051\n",
      "2024                 4355922     1000549\n"
     ]
    }
   ],
   "source": [
    "df_mask1=pd.pivot_table(df,index=\"year\", columns= \"vehicle_category\", values=\"total_vehicles_sold\" , aggfunc=\"sum\")\n",
    "print(df_mask1)"
   ]
  },
  {
   "cell_type": "code",
   "execution_count": 36,
   "id": "31e8f6ce-ddb2-4ab9-9bcd-ee9d76fc7fac",
   "metadata": {},
   "outputs": [
    {
     "data": {
      "text/plain": [
       "<Axes: xlabel='vehicle_category', ylabel='year'>"
      ]
     },
     "execution_count": 36,
     "metadata": {},
     "output_type": "execute_result"
    },
    {
     "data": {
      "image/png": "[encoded data removed]",
      "text/plain": [
       "<Figure size 640x480 with 2 Axes>"
      ]
     },
     "metadata": {},
     "output_type": "display_data"
    }
   ],
   "source": [
    "sns.heatmap(df_mask1, annot=True,fmt=\".1f\",cmap=\"crest\")"
   ]
  },
  {
   "cell_type": "code",
   "execution_count": 37,
   "id": "1bdf67dc-aec5-47e7-8071-891e500ed4cc",
   "metadata": {},
   "outputs": [
    {
     "name": "stdout",
     "output_type": "stream",
     "text": [
      "vehicle_category          2-Wheelers  4-Wheelers\n",
      "state                                           \n",
      "Andaman & Nicobar                483         177\n",
      "Andaman & Nicobar Island       13503        4722\n",
      "Andhra Pradesh               2018842      265029\n",
      "Arunachal Pradesh              39655       31892\n",
      "Assam                        1156601      246670\n",
      "Bihar                        2836853      211520\n",
      "Chandigarh                     60010       70618\n",
      "Chhattisgarh                 1181266      153723\n",
      "DNH and DD                     29446       13951\n",
      "Delhi                        1058093      530343\n",
      "Goa                           140325       59645\n",
      "Gujarat                      3181823      943728\n",
      "Haryana                      1228554      674214\n",
      "Himachal Pradesh              190694      134672\n",
      "Jammu and Kashmir             250458      164095\n",
      "Jharkhand                    1202744      162142\n",
      "Karnataka                    3203736      790593\n",
      "Kerala                       1498631      566046\n",
      "Ladakh                          3078        7418\n",
      "Madhya Pradesh               3041912      456786\n",
      "Maharashtra                  4821434     1279995\n",
      "Manipur                        82412       22101\n",
      "Meghalaya                      53427       36756\n",
      "Mizoram                        57919       13388\n",
      "Nagaland                       18922       25170\n",
      "Odisha                       1488162      200632\n",
      "Puducherry                    122252       28546\n",
      "Punjab                       1165004      378958\n",
      "Rajasthan                    2769367      538224\n",
      "Sikkim                         15245       14101\n",
      "Tamil Nadu                   3945865      706498\n",
      "Tripura                       110546       14670\n",
      "Uttar Pradesh                7028450     1098634\n",
      "Uttarakhand                   472442      150265\n",
      "West Bengal                  2430614      305562\n"
     ]
    }
   ],
   "source": [
    "df_mask2= pd.pivot_table(df,index=\"state\", columns= \"vehicle_category\", values=\"total_vehicles_sold\" , aggfunc=\"sum\")\n",
    "print(df_mask2)"
   ]
  },
  {
   "cell_type": "code",
   "execution_count": 38,
   "id": "0d95a1a3-8553-4ea5-b4b8-9e45dcce0155",
   "metadata": {},
   "outputs": [
    {
     "data": {
      "text/plain": [
       "<Axes: xlabel='vehicle_category', ylabel='state'>"
      ]
     },
     "execution_count": 38,
     "metadata": {},
     "output_type": "execute_result"
    },
    {
     "data": {
      "image/png": "[encoded data removed]",
      "text/plain": [
       "<Figure size 640x480 with 2 Axes>"
      ]
     },
     "metadata": {},
     "output_type": "display_data"
    }
   ],
   "source": [
    "sns.heatmap(df_mask2, fmt=\".1f\",linewidth=.5,cmap=\"crest\")"
   ]
  },
  {
   "cell_type": "code",
   "execution_count": 39,
   "id": "17447b69-fc91-435b-bbaa-393df7da4bdf",
   "metadata": {},
   "outputs": [
    {
     "data": {
      "text/html": [
       "<div>\n",
       "<style scoped>\n",
       "    .dataframe tbody tr th:only-of-type {\n",
       "        vertical-align: middle;\n",
       "    }\n",
       "\n",
       "    .dataframe tbody tr th {\n",
       "        vertical-align: top;\n",
       "    }\n",
       "\n",
       "    .dataframe thead th {\n",
       "        text-align: right;\n",
       "    }\n",
       "</style>\n",
       "<table border=\"1\" class=\"dataframe\">\n",
       "  <thead>\n",
       "    <tr style=\"text-align: right;\">\n",
       "      <th>vehicle_category</th>\n",
       "      <th>2-Wheelers</th>\n",
       "      <th>4-Wheelers</th>\n",
       "    </tr>\n",
       "    <tr>\n",
       "      <th>state</th>\n",
       "      <th></th>\n",
       "      <th></th>\n",
       "    </tr>\n",
       "  </thead>\n",
       "  <tbody>\n",
       "    <tr>\n",
       "      <th>Andaman &amp; Nicobar</th>\n",
       "      <td>2</td>\n",
       "      <td>0</td>\n",
       "    </tr>\n",
       "    <tr>\n",
       "      <th>Andaman &amp; Nicobar Island</th>\n",
       "      <td>35</td>\n",
       "      <td>43</td>\n",
       "    </tr>\n",
       "    <tr>\n",
       "      <th>Andhra Pradesh</th>\n",
       "      <td>74099</td>\n",
       "      <td>3323</td>\n",
       "    </tr>\n",
       "    <tr>\n",
       "      <th>Arunachal Pradesh</th>\n",
       "      <td>4</td>\n",
       "      <td>29</td>\n",
       "    </tr>\n",
       "    <tr>\n",
       "      <th>Assam</th>\n",
       "      <td>5963</td>\n",
       "      <td>455</td>\n",
       "    </tr>\n",
       "    <tr>\n",
       "      <th>Bihar</th>\n",
       "      <td>30020</td>\n",
       "      <td>999</td>\n",
       "    </tr>\n",
       "    <tr>\n",
       "      <th>Chandigarh</th>\n",
       "      <td>3654</td>\n",
       "      <td>1625</td>\n",
       "    </tr>\n",
       "    <tr>\n",
       "      <th>Chhattisgarh</th>\n",
       "      <td>51889</td>\n",
       "      <td>1915</td>\n",
       "    </tr>\n",
       "    <tr>\n",
       "      <th>DNH and DD</th>\n",
       "      <td>281</td>\n",
       "      <td>74</td>\n",
       "    </tr>\n",
       "    <tr>\n",
       "      <th>Delhi</th>\n",
       "      <td>89178</td>\n",
       "      <td>18134</td>\n",
       "    </tr>\n",
       "    <tr>\n",
       "      <th>Goa</th>\n",
       "      <td>17634</td>\n",
       "      <td>2050</td>\n",
       "    </tr>\n",
       "    <tr>\n",
       "      <th>Gujarat</th>\n",
       "      <td>169557</td>\n",
       "      <td>11832</td>\n",
       "    </tr>\n",
       "    <tr>\n",
       "      <th>Haryana</th>\n",
       "      <td>26355</td>\n",
       "      <td>4442</td>\n",
       "    </tr>\n",
       "    <tr>\n",
       "      <th>Himachal Pradesh</th>\n",
       "      <td>2351</td>\n",
       "      <td>244</td>\n",
       "    </tr>\n",
       "    <tr>\n",
       "      <th>Jammu and Kashmir</th>\n",
       "      <td>5723</td>\n",
       "      <td>248</td>\n",
       "    </tr>\n",
       "    <tr>\n",
       "      <th>Jharkhand</th>\n",
       "      <td>17686</td>\n",
       "      <td>775</td>\n",
       "    </tr>\n",
       "    <tr>\n",
       "      <th>Karnataka</th>\n",
       "      <td>292329</td>\n",
       "      <td>20666</td>\n",
       "    </tr>\n",
       "    <tr>\n",
       "      <th>Kerala</th>\n",
       "      <td>120593</td>\n",
       "      <td>16467</td>\n",
       "    </tr>\n",
       "    <tr>\n",
       "      <th>Ladakh</th>\n",
       "      <td>58</td>\n",
       "      <td>10</td>\n",
       "    </tr>\n",
       "    <tr>\n",
       "      <th>Madhya Pradesh</th>\n",
       "      <td>76362</td>\n",
       "      <td>2617</td>\n",
       "    </tr>\n",
       "    <tr>\n",
       "      <th>Maharashtra</th>\n",
       "      <td>363765</td>\n",
       "      <td>32280</td>\n",
       "    </tr>\n",
       "    <tr>\n",
       "      <th>Manipur</th>\n",
       "      <td>252</td>\n",
       "      <td>47</td>\n",
       "    </tr>\n",
       "    <tr>\n",
       "      <th>Meghalaya</th>\n",
       "      <td>135</td>\n",
       "      <td>42</td>\n",
       "    </tr>\n",
       "    <tr>\n",
       "      <th>Mizoram</th>\n",
       "      <td>339</td>\n",
       "      <td>1</td>\n",
       "    </tr>\n",
       "    <tr>\n",
       "      <th>Nagaland</th>\n",
       "      <td>9</td>\n",
       "      <td>4</td>\n",
       "    </tr>\n",
       "    <tr>\n",
       "      <th>Odisha</th>\n",
       "      <td>76083</td>\n",
       "      <td>2184</td>\n",
       "    </tr>\n",
       "    <tr>\n",
       "      <th>Puducherry</th>\n",
       "      <td>5363</td>\n",
       "      <td>173</td>\n",
       "    </tr>\n",
       "    <tr>\n",
       "      <th>Punjab</th>\n",
       "      <td>22632</td>\n",
       "      <td>1201</td>\n",
       "    </tr>\n",
       "    <tr>\n",
       "      <th>Rajasthan</th>\n",
       "      <td>142425</td>\n",
       "      <td>7941</td>\n",
       "    </tr>\n",
       "    <tr>\n",
       "      <th>Sikkim</th>\n",
       "      <td>0</td>\n",
       "      <td>0</td>\n",
       "    </tr>\n",
       "    <tr>\n",
       "      <th>Tamil Nadu</th>\n",
       "      <td>188855</td>\n",
       "      <td>11207</td>\n",
       "    </tr>\n",
       "    <tr>\n",
       "      <th>Tripura</th>\n",
       "      <td>522</td>\n",
       "      <td>40</td>\n",
       "    </tr>\n",
       "    <tr>\n",
       "      <th>Uttar Pradesh</th>\n",
       "      <td>89165</td>\n",
       "      <td>6038</td>\n",
       "    </tr>\n",
       "    <tr>\n",
       "      <th>Uttarakhand</th>\n",
       "      <td>13987</td>\n",
       "      <td>1140</td>\n",
       "    </tr>\n",
       "    <tr>\n",
       "      <th>West Bengal</th>\n",
       "      <td>25863</td>\n",
       "      <td>4697</td>\n",
       "    </tr>\n",
       "  </tbody>\n",
       "</table>\n",
       "</div>"
      ],
      "text/plain": [
       "vehicle_category          2-Wheelers  4-Wheelers\n",
       "state                                           \n",
       "Andaman & Nicobar                  2           0\n",
       "Andaman & Nicobar Island          35          43\n",
       "Andhra Pradesh                 74099        3323\n",
       "Arunachal Pradesh                  4          29\n",
       "Assam                           5963         455\n",
       "Bihar                          30020         999\n",
       "Chandigarh                      3654        1625\n",
       "Chhattisgarh                   51889        1915\n",
       "DNH and DD                       281          74\n",
       "Delhi                          89178       18134\n",
       "Goa                            17634        2050\n",
       "Gujarat                       169557       11832\n",
       "Haryana                        26355        4442\n",
       "Himachal Pradesh                2351         244\n",
       "Jammu and Kashmir               5723         248\n",
       "Jharkhand                      17686         775\n",
       "Karnataka                     292329       20666\n",
       "Kerala                        120593       16467\n",
       "Ladakh                            58          10\n",
       "Madhya Pradesh                 76362        2617\n",
       "Maharashtra                   363765       32280\n",
       "Manipur                          252          47\n",
       "Meghalaya                        135          42\n",
       "Mizoram                          339           1\n",
       "Nagaland                           9           4\n",
       "Odisha                         76083        2184\n",
       "Puducherry                      5363         173\n",
       "Punjab                         22632        1201\n",
       "Rajasthan                     142425        7941\n",
       "Sikkim                             0           0\n",
       "Tamil Nadu                    188855       11207\n",
       "Tripura                          522          40\n",
       "Uttar Pradesh                  89165        6038\n",
       "Uttarakhand                    13987        1140\n",
       "West Bengal                    25863        4697"
      ]
     },
     "execution_count": 39,
     "metadata": {},
     "output_type": "execute_result"
    }
   ],
   "source": [
    "pd.pivot_table(df,index=\"state\", columns= \"vehicle_category\", values=\"electric_vehicles_sold\"  , aggfunc=\"sum\")"
   ]
  },
  {
   "cell_type": "code",
   "execution_count": 40,
   "id": "d74480b2-4ca9-43f2-996d-e5a8797059d7",
   "metadata": {},
   "outputs": [],
   "source": [
    "df1= pd.read_csv(\"electric_vehicle_sales_by_makers.csv\")"
   ]
  },
  {
   "cell_type": "code",
   "execution_count": 41,
   "id": "9bbaf740-7fbd-4c46-906a-f1ef56a2c5a5",
   "metadata": {},
   "outputs": [
    {
     "data": {
      "text/html": [
       "<div>\n",
       "<style scoped>\n",
       "    .dataframe tbody tr th:only-of-type {\n",
       "        vertical-align: middle;\n",
       "    }\n",
       "\n",
       "    .dataframe tbody tr th {\n",
       "        vertical-align: top;\n",
       "    }\n",
       "\n",
       "    .dataframe thead th {\n",
       "        text-align: right;\n",
       "    }\n",
       "</style>\n",
       "<table border=\"1\" class=\"dataframe\">\n",
       "  <thead>\n",
       "    <tr style=\"text-align: right;\">\n",
       "      <th></th>\n",
       "      <th>date</th>\n",
       "      <th>vehicle_category</th>\n",
       "      <th>maker</th>\n",
       "      <th>electric_vehicles_sold</th>\n",
       "    </tr>\n",
       "  </thead>\n",
       "  <tbody>\n",
       "    <tr>\n",
       "      <th>0</th>\n",
       "      <td>01-Apr-21</td>\n",
       "      <td>2-Wheelers</td>\n",
       "      <td>OLA ELECTRIC</td>\n",
       "      <td>0</td>\n",
       "    </tr>\n",
       "    <tr>\n",
       "      <th>1</th>\n",
       "      <td>01-Apr-22</td>\n",
       "      <td>2-Wheelers</td>\n",
       "      <td>OKAYA EV</td>\n",
       "      <td>0</td>\n",
       "    </tr>\n",
       "    <tr>\n",
       "      <th>2</th>\n",
       "      <td>01-May-21</td>\n",
       "      <td>2-Wheelers</td>\n",
       "      <td>OLA ELECTRIC</td>\n",
       "      <td>0</td>\n",
       "    </tr>\n",
       "    <tr>\n",
       "      <th>3</th>\n",
       "      <td>01-Jun-21</td>\n",
       "      <td>2-Wheelers</td>\n",
       "      <td>OLA ELECTRIC</td>\n",
       "      <td>0</td>\n",
       "    </tr>\n",
       "    <tr>\n",
       "      <th>4</th>\n",
       "      <td>01-Jul-21</td>\n",
       "      <td>2-Wheelers</td>\n",
       "      <td>OLA ELECTRIC</td>\n",
       "      <td>0</td>\n",
       "    </tr>\n",
       "  </tbody>\n",
       "</table>\n",
       "</div>"
      ],
      "text/plain": [
       "        date vehicle_category         maker  electric_vehicles_sold\n",
       "0  01-Apr-21       2-Wheelers  OLA ELECTRIC                       0\n",
       "1  01-Apr-22       2-Wheelers      OKAYA EV                       0\n",
       "2  01-May-21       2-Wheelers  OLA ELECTRIC                       0\n",
       "3  01-Jun-21       2-Wheelers  OLA ELECTRIC                       0\n",
       "4  01-Jul-21       2-Wheelers  OLA ELECTRIC                       0"
      ]
     },
     "execution_count": 41,
     "metadata": {},
     "output_type": "execute_result"
    }
   ],
   "source": [
    "df1.head()"
   ]
  },
  {
   "cell_type": "code",
   "execution_count": 42,
   "id": "61438506-d96c-4ea1-8f87-a29cf11733ff",
   "metadata": {},
   "outputs": [
    {
     "name": "stdout",
     "output_type": "stream",
     "text": [
      "<class 'pandas.core.frame.DataFrame'>\n",
      "RangeIndex: 816 entries, 0 to 815\n",
      "Data columns (total 4 columns):\n",
      " #   Column                  Non-Null Count  Dtype \n",
      "---  ------                  --------------  ----- \n",
      " 0   date                    816 non-null    object\n",
      " 1   vehicle_category        816 non-null    object\n",
      " 2   maker                   816 non-null    object\n",
      " 3   electric_vehicles_sold  816 non-null    int64 \n",
      "dtypes: int64(1), object(3)\n",
      "memory usage: 25.6+ KB\n"
     ]
    }
   ],
   "source": [
    "df1.info()"
   ]
  },
  {
   "cell_type": "code",
   "execution_count": 43,
   "id": "ee6a2569-f906-447b-9211-0c64a87e1c35",
   "metadata": {},
   "outputs": [
    {
     "name": "stderr",
     "output_type": "stream",
     "text": [
      "/var/folders/5y/fdpz56f55cb6jc5jsgbq17140000gn/T/ipykernel_44742/2620480713.py:2: UserWarning: Could not infer format, so each element will be parsed individually, falling back to `dateutil`. To ensure parsing is consistent and as-expected, please specify a format.\n",
      "  df1['date']= pd.to_datetime(df1['date'],errors='coerce')\n"
     ]
    }
   ],
   "source": [
    "#we can see date is in object so we can change it to date timeframe.\n",
    "df1['date']= pd.to_datetime(df1['date'],errors='coerce')"
   ]
  },
  {
   "cell_type": "code",
   "execution_count": 44,
   "id": "f46dd29d-d51f-49b2-93d2-8f7b8f9f5917",
   "metadata": {},
   "outputs": [
    {
     "data": {
      "text/html": [
       "<div>\n",
       "<style scoped>\n",
       "    .dataframe tbody tr th:only-of-type {\n",
       "        vertical-align: middle;\n",
       "    }\n",
       "\n",
       "    .dataframe tbody tr th {\n",
       "        vertical-align: top;\n",
       "    }\n",
       "\n",
       "    .dataframe thead th {\n",
       "        text-align: right;\n",
       "    }\n",
       "</style>\n",
       "<table border=\"1\" class=\"dataframe\">\n",
       "  <thead>\n",
       "    <tr style=\"text-align: right;\">\n",
       "      <th></th>\n",
       "      <th>date</th>\n",
       "      <th>vehicle_category</th>\n",
       "      <th>maker</th>\n",
       "      <th>electric_vehicles_sold</th>\n",
       "      <th>year</th>\n",
       "    </tr>\n",
       "  </thead>\n",
       "  <tbody>\n",
       "    <tr>\n",
       "      <th>0</th>\n",
       "      <td>2021-04-01</td>\n",
       "      <td>2-Wheelers</td>\n",
       "      <td>OLA ELECTRIC</td>\n",
       "      <td>0</td>\n",
       "      <td>2021</td>\n",
       "    </tr>\n",
       "    <tr>\n",
       "      <th>1</th>\n",
       "      <td>2022-04-01</td>\n",
       "      <td>2-Wheelers</td>\n",
       "      <td>OKAYA EV</td>\n",
       "      <td>0</td>\n",
       "      <td>2021</td>\n",
       "    </tr>\n",
       "    <tr>\n",
       "      <th>2</th>\n",
       "      <td>2021-05-01</td>\n",
       "      <td>2-Wheelers</td>\n",
       "      <td>OLA ELECTRIC</td>\n",
       "      <td>0</td>\n",
       "      <td>2021</td>\n",
       "    </tr>\n",
       "    <tr>\n",
       "      <th>3</th>\n",
       "      <td>2021-06-01</td>\n",
       "      <td>2-Wheelers</td>\n",
       "      <td>OLA ELECTRIC</td>\n",
       "      <td>0</td>\n",
       "      <td>2021</td>\n",
       "    </tr>\n",
       "    <tr>\n",
       "      <th>4</th>\n",
       "      <td>2021-07-01</td>\n",
       "      <td>2-Wheelers</td>\n",
       "      <td>OLA ELECTRIC</td>\n",
       "      <td>0</td>\n",
       "      <td>2021</td>\n",
       "    </tr>\n",
       "    <tr>\n",
       "      <th>...</th>\n",
       "      <td>...</td>\n",
       "      <td>...</td>\n",
       "      <td>...</td>\n",
       "      <td>...</td>\n",
       "      <td>...</td>\n",
       "    </tr>\n",
       "    <tr>\n",
       "      <th>811</th>\n",
       "      <td>2024-03-01</td>\n",
       "      <td>2-Wheelers</td>\n",
       "      <td>BGAUSS</td>\n",
       "      <td>3070</td>\n",
       "      <td>2022</td>\n",
       "    </tr>\n",
       "    <tr>\n",
       "      <th>812</th>\n",
       "      <td>2024-03-01</td>\n",
       "      <td>2-Wheelers</td>\n",
       "      <td>BATTRE ELECTRIC</td>\n",
       "      <td>625</td>\n",
       "      <td>2022</td>\n",
       "    </tr>\n",
       "    <tr>\n",
       "      <th>813</th>\n",
       "      <td>2024-03-01</td>\n",
       "      <td>2-Wheelers</td>\n",
       "      <td>KINETIC GREEN</td>\n",
       "      <td>3915</td>\n",
       "      <td>2022</td>\n",
       "    </tr>\n",
       "    <tr>\n",
       "      <th>814</th>\n",
       "      <td>2024-03-01</td>\n",
       "      <td>2-Wheelers</td>\n",
       "      <td>REVOLT</td>\n",
       "      <td>585</td>\n",
       "      <td>2022</td>\n",
       "    </tr>\n",
       "    <tr>\n",
       "      <th>815</th>\n",
       "      <td>2024-03-01</td>\n",
       "      <td>2-Wheelers</td>\n",
       "      <td>OTHERS</td>\n",
       "      <td>10579</td>\n",
       "      <td>2022</td>\n",
       "    </tr>\n",
       "  </tbody>\n",
       "</table>\n",
       "<p>816 rows × 5 columns</p>\n",
       "</div>"
      ],
      "text/plain": [
       "          date vehicle_category            maker  electric_vehicles_sold  year\n",
       "0   2021-04-01       2-Wheelers     OLA ELECTRIC                       0  2021\n",
       "1   2022-04-01       2-Wheelers         OKAYA EV                       0  2021\n",
       "2   2021-05-01       2-Wheelers     OLA ELECTRIC                       0  2021\n",
       "3   2021-06-01       2-Wheelers     OLA ELECTRIC                       0  2021\n",
       "4   2021-07-01       2-Wheelers     OLA ELECTRIC                       0  2021\n",
       "..         ...              ...              ...                     ...   ...\n",
       "811 2024-03-01       2-Wheelers           BGAUSS                    3070  2022\n",
       "812 2024-03-01       2-Wheelers  BATTRE ELECTRIC                     625  2022\n",
       "813 2024-03-01       2-Wheelers    KINETIC GREEN                    3915  2022\n",
       "814 2024-03-01       2-Wheelers           REVOLT                     585  2022\n",
       "815 2024-03-01       2-Wheelers           OTHERS                   10579  2022\n",
       "\n",
       "[816 rows x 5 columns]"
      ]
     },
     "execution_count": 44,
     "metadata": {},
     "output_type": "execute_result"
    }
   ],
   "source": [
    "#Extracting year from the df1\n",
    "df1[\"year\"]= (df[\"date\"].dt.year)\n",
    "df1"
   ]
  },
  {
   "cell_type": "code",
   "execution_count": 45,
   "id": "188bc3a6-cf2c-4e3a-a110-e8cb2999abc7",
   "metadata": {},
   "outputs": [
    {
     "data": {
      "text/html": [
       "<pre style=\"white-space:pre;overflow-x:auto;line-height:normal;font-family:Menlo,'DejaVu Sans Mono',consolas,'Courier New',monospace\">╭──────────────────────────────────────────────── skimpy summary ─────────────────────────────────────────────────╮\n",
       "│ <span style=\"font-style: italic\">         Data Summary         </span> <span style=\"font-style: italic\">      Data Types       </span>                                                          │\n",
       "│ ┏━━━━━━━━━━━━━━━━━━━┳━━━━━━━━┓ ┏━━━━━━━━━━━━━┳━━━━━━━┓                                                          │\n",
       "│ ┃<span style=\"color: #008080; text-decoration-color: #008080; font-weight: bold\"> dataframe         </span>┃<span style=\"color: #008080; text-decoration-color: #008080; font-weight: bold\"> Values </span>┃ ┃<span style=\"color: #008080; text-decoration-color: #008080; font-weight: bold\"> Column Type </span>┃<span style=\"color: #008080; text-decoration-color: #008080; font-weight: bold\"> Count </span>┃                                                          │\n",
       "│ ┡━━━━━━━━━━━━━━━━━━━╇━━━━━━━━┩ ┡━━━━━━━━━━━━━╇━━━━━━━┩                                                          │\n",
       "│ │ Number of rows    │ 816    │ │ string      │ 2     │                                                          │\n",
       "│ │ Number of columns │ 5      │ │ int64       │ 2     │                                                          │\n",
       "│ └───────────────────┴────────┘ │ datetime64  │ 1     │                                                          │\n",
       "│                                └─────────────┴───────┘                                                          │\n",
       "│ <span style=\"font-style: italic\">                                                    number                                                    </span>  │\n",
       "│ ┏━━━━━━━━━━━━━━━━━━━━━━━━━━┳━━━━━┳━━━━━━━┳━━━━━━━┳━━━━━━━━━━┳━━━━━━━┳━━━━━━━┳━━━━━━━┳━━━━━━━┳━━━━━━━┳━━━━━━━━┓  │\n",
       "│ ┃<span style=\"font-weight: bold\"> column_name              </span>┃<span style=\"font-weight: bold\"> NA  </span>┃<span style=\"font-weight: bold\"> NA %  </span>┃<span style=\"font-weight: bold\"> mean  </span>┃<span style=\"font-weight: bold\"> sd       </span>┃<span style=\"font-weight: bold\"> p0    </span>┃<span style=\"font-weight: bold\"> p25   </span>┃<span style=\"font-weight: bold\"> p50   </span>┃<span style=\"font-weight: bold\"> p75   </span>┃<span style=\"font-weight: bold\"> p100  </span>┃<span style=\"font-weight: bold\"> hist   </span>┃  │\n",
       "│ ┡━━━━━━━━━━━━━━━━━━━━━━━━━━╇━━━━━╇━━━━━━━╇━━━━━━━╇━━━━━━━━━━╇━━━━━━━╇━━━━━━━╇━━━━━━━╇━━━━━━━╇━━━━━━━╇━━━━━━━━┩  │\n",
       "│ │ <span style=\"color: #af87ff; text-decoration-color: #af87ff\">electric_vehicles_sold  </span> │ <span style=\"color: #008080; text-decoration-color: #008080\">  0</span> │ <span style=\"color: #008080; text-decoration-color: #008080\">    0</span> │ <span style=\"color: #008080; text-decoration-color: #008080\"> 2532</span> │ <span style=\"color: #008080; text-decoration-color: #008080\">    4771</span> │ <span style=\"color: #008080; text-decoration-color: #008080\">    0</span> │ <span style=\"color: #008080; text-decoration-color: #008080\">   42</span> │ <span style=\"color: #008080; text-decoration-color: #008080\">  662</span> │ <span style=\"color: #008080; text-decoration-color: #008080\"> 2636</span> │ <span style=\"color: #008080; text-decoration-color: #008080\">44630</span> │ <span style=\"color: #008000; text-decoration-color: #008000\">  ▇▁  </span> │  │\n",
       "│ │ <span style=\"color: #af87ff; text-decoration-color: #af87ff\">year                    </span> │ <span style=\"color: #008080; text-decoration-color: #008080\">  0</span> │ <span style=\"color: #008080; text-decoration-color: #008080\">    0</span> │ <span style=\"color: #008080; text-decoration-color: #008080\"> 2022</span> │ <span style=\"color: #008080; text-decoration-color: #008080\">  0.8515</span> │ <span style=\"color: #008080; text-decoration-color: #008080\"> 2021</span> │ <span style=\"color: #008080; text-decoration-color: #008080\"> 2021</span> │ <span style=\"color: #008080; text-decoration-color: #008080\"> 2022</span> │ <span style=\"color: #008080; text-decoration-color: #008080\"> 2022</span> │ <span style=\"color: #008080; text-decoration-color: #008080\"> 2024</span> │ <span style=\"color: #008000; text-decoration-color: #008000\">▇ ▅ ▃▁</span> │  │\n",
       "│ └──────────────────────────┴─────┴───────┴───────┴──────────┴───────┴───────┴───────┴───────┴───────┴────────┘  │\n",
       "│ <span style=\"font-style: italic\">                                                   datetime                                                   </span>  │\n",
       "│ ┏━━━━━━━━━━━━━━━━━━━━━━━━┳━━━━━━━━┳━━━━━━━━━━━┳━━━━━━━━━━━━━━━━━━━━━┳━━━━━━━━━━━━━━━━━━━━━┳━━━━━━━━━━━━━━━━━━┓  │\n",
       "│ ┃<span style=\"font-weight: bold\"> column_name            </span>┃<span style=\"font-weight: bold\"> NA     </span>┃<span style=\"font-weight: bold\"> NA %      </span>┃<span style=\"font-weight: bold\"> first               </span>┃<span style=\"font-weight: bold\"> last                </span>┃<span style=\"font-weight: bold\"> frequency        </span>┃  │\n",
       "│ ┡━━━━━━━━━━━━━━━━━━━━━━━━╇━━━━━━━━╇━━━━━━━━━━━╇━━━━━━━━━━━━━━━━━━━━━╇━━━━━━━━━━━━━━━━━━━━━╇━━━━━━━━━━━━━━━━━━┩  │\n",
       "│ │ <span style=\"color: #af87ff; text-decoration-color: #af87ff\">date                  </span> │ <span style=\"color: #008080; text-decoration-color: #008080\">     0</span> │ <span style=\"color: #008080; text-decoration-color: #008080\">        0</span> │ <span style=\"color: #800000; text-decoration-color: #800000\">    2021-04-01     </span> │ <span style=\"color: #800000; text-decoration-color: #800000\">    2024-03-01     </span> │ <span style=\"color: #af87ff; text-decoration-color: #af87ff\">None            </span> │  │\n",
       "│ └────────────────────────┴────────┴───────────┴─────────────────────┴─────────────────────┴──────────────────┘  │\n",
       "│ <span style=\"font-style: italic\">                                                    string                                                    </span>  │\n",
       "│ ┏━━━━━━━━━━━━━━━━━━━━━━━━━━━━━━━━━━┳━━━━━━━━┳━━━━━━━━━━━┳━━━━━━━━━━━━━━━━━━━━━━━━━━━━┳━━━━━━━━━━━━━━━━━━━━━━━┓  │\n",
       "│ ┃<span style=\"font-weight: bold\"> column_name                      </span>┃<span style=\"font-weight: bold\"> NA     </span>┃<span style=\"font-weight: bold\"> NA %      </span>┃<span style=\"font-weight: bold\"> words per row              </span>┃<span style=\"font-weight: bold\"> total words           </span>┃  │\n",
       "│ ┡━━━━━━━━━━━━━━━━━━━━━━━━━━━━━━━━━━╇━━━━━━━━╇━━━━━━━━━━━╇━━━━━━━━━━━━━━━━━━━━━━━━━━━━╇━━━━━━━━━━━━━━━━━━━━━━━┩  │\n",
       "│ │ <span style=\"color: #af87ff; text-decoration-color: #af87ff\">vehicle_category                </span> │ <span style=\"color: #008080; text-decoration-color: #008080\">     0</span> │ <span style=\"color: #008080; text-decoration-color: #008080\">        0</span> │ <span style=\"color: #008080; text-decoration-color: #008080\">                         1</span> │ <span style=\"color: #008080; text-decoration-color: #008080\">                  816</span> │  │\n",
       "│ │ <span style=\"color: #af87ff; text-decoration-color: #af87ff\">maker                           </span> │ <span style=\"color: #008080; text-decoration-color: #008080\">     0</span> │ <span style=\"color: #008080; text-decoration-color: #008080\">        0</span> │ <span style=\"color: #008080; text-decoration-color: #008080\">                       1.8</span> │ <span style=\"color: #008080; text-decoration-color: #008080\">                 1428</span> │  │\n",
       "│ └──────────────────────────────────┴────────┴───────────┴────────────────────────────┴───────────────────────┘  │\n",
       "╰────────────────────────────────────────────────────── End ──────────────────────────────────────────────────────╯\n",
       "</pre>\n"
      ],
      "text/plain": [
       "╭──────────────────────────────────────────────── skimpy summary ─────────────────────────────────────────────────╮\n",
       "│ \u001b[3m         Data Summary         \u001b[0m \u001b[3m      Data Types       \u001b[0m                                                          │\n",
       "│ ┏━━━━━━━━━━━━━━━━━━━┳━━━━━━━━┓ ┏━━━━━━━━━━━━━┳━━━━━━━┓                                                          │\n",
       "│ ┃\u001b[1;36m \u001b[0m\u001b[1;36mdataframe        \u001b[0m\u001b[1;36m \u001b[0m┃\u001b[1;36m \u001b[0m\u001b[1;36mValues\u001b[0m\u001b[1;36m \u001b[0m┃ ┃\u001b[1;36m \u001b[0m\u001b[1;36mColumn Type\u001b[0m\u001b[1;36m \u001b[0m┃\u001b[1;36m \u001b[0m\u001b[1;36mCount\u001b[0m\u001b[1;36m \u001b[0m┃                                                          │\n",
       "│ ┡━━━━━━━━━━━━━━━━━━━╇━━━━━━━━┩ ┡━━━━━━━━━━━━━╇━━━━━━━┩                                                          │\n",
       "│ │ Number of rows    │ 816    │ │ string      │ 2     │                                                          │\n",
       "│ │ Number of columns │ 5      │ │ int64       │ 2     │                                                          │\n",
       "│ └───────────────────┴────────┘ │ datetime64  │ 1     │                                                          │\n",
       "│                                └─────────────┴───────┘                                                          │\n",
       "│ \u001b[3m                                                    number                                                    \u001b[0m  │\n",
       "│ ┏━━━━━━━━━━━━━━━━━━━━━━━━━━┳━━━━━┳━━━━━━━┳━━━━━━━┳━━━━━━━━━━┳━━━━━━━┳━━━━━━━┳━━━━━━━┳━━━━━━━┳━━━━━━━┳━━━━━━━━┓  │\n",
       "│ ┃\u001b[1m \u001b[0m\u001b[1mcolumn_name             \u001b[0m\u001b[1m \u001b[0m┃\u001b[1m \u001b[0m\u001b[1mNA \u001b[0m\u001b[1m \u001b[0m┃\u001b[1m \u001b[0m\u001b[1mNA % \u001b[0m\u001b[1m \u001b[0m┃\u001b[1m \u001b[0m\u001b[1mmean \u001b[0m\u001b[1m \u001b[0m┃\u001b[1m \u001b[0m\u001b[1msd      \u001b[0m\u001b[1m \u001b[0m┃\u001b[1m \u001b[0m\u001b[1mp0   \u001b[0m\u001b[1m \u001b[0m┃\u001b[1m \u001b[0m\u001b[1mp25  \u001b[0m\u001b[1m \u001b[0m┃\u001b[1m \u001b[0m\u001b[1mp50  \u001b[0m\u001b[1m \u001b[0m┃\u001b[1m \u001b[0m\u001b[1mp75  \u001b[0m\u001b[1m \u001b[0m┃\u001b[1m \u001b[0m\u001b[1mp100 \u001b[0m\u001b[1m \u001b[0m┃\u001b[1m \u001b[0m\u001b[1mhist  \u001b[0m\u001b[1m \u001b[0m┃  │\n",
       "│ ┡━━━━━━━━━━━━━━━━━━━━━━━━━━╇━━━━━╇━━━━━━━╇━━━━━━━╇━━━━━━━━━━╇━━━━━━━╇━━━━━━━╇━━━━━━━╇━━━━━━━╇━━━━━━━╇━━━━━━━━┩  │\n",
       "│ │ \u001b[38;5;141melectric_vehicles_sold  \u001b[0m │ \u001b[36m  0\u001b[0m │ \u001b[36m    0\u001b[0m │ \u001b[36m 2532\u001b[0m │ \u001b[36m    4771\u001b[0m │ \u001b[36m    0\u001b[0m │ \u001b[36m   42\u001b[0m │ \u001b[36m  662\u001b[0m │ \u001b[36m 2636\u001b[0m │ \u001b[36m44630\u001b[0m │ \u001b[32m  ▇▁  \u001b[0m │  │\n",
       "│ │ \u001b[38;5;141myear                    \u001b[0m │ \u001b[36m  0\u001b[0m │ \u001b[36m    0\u001b[0m │ \u001b[36m 2022\u001b[0m │ \u001b[36m  0.8515\u001b[0m │ \u001b[36m 2021\u001b[0m │ \u001b[36m 2021\u001b[0m │ \u001b[36m 2022\u001b[0m │ \u001b[36m 2022\u001b[0m │ \u001b[36m 2024\u001b[0m │ \u001b[32m▇ ▅ ▃▁\u001b[0m │  │\n",
       "│ └──────────────────────────┴─────┴───────┴───────┴──────────┴───────┴───────┴───────┴───────┴───────┴────────┘  │\n",
       "│ \u001b[3m                                                   datetime                                                   \u001b[0m  │\n",
       "│ ┏━━━━━━━━━━━━━━━━━━━━━━━━┳━━━━━━━━┳━━━━━━━━━━━┳━━━━━━━━━━━━━━━━━━━━━┳━━━━━━━━━━━━━━━━━━━━━┳━━━━━━━━━━━━━━━━━━┓  │\n",
       "│ ┃\u001b[1m \u001b[0m\u001b[1mcolumn_name           \u001b[0m\u001b[1m \u001b[0m┃\u001b[1m \u001b[0m\u001b[1mNA    \u001b[0m\u001b[1m \u001b[0m┃\u001b[1m \u001b[0m\u001b[1mNA %     \u001b[0m\u001b[1m \u001b[0m┃\u001b[1m \u001b[0m\u001b[1mfirst              \u001b[0m\u001b[1m \u001b[0m┃\u001b[1m \u001b[0m\u001b[1mlast               \u001b[0m\u001b[1m \u001b[0m┃\u001b[1m \u001b[0m\u001b[1mfrequency       \u001b[0m\u001b[1m \u001b[0m┃  │\n",
       "│ ┡━━━━━━━━━━━━━━━━━━━━━━━━╇━━━━━━━━╇━━━━━━━━━━━╇━━━━━━━━━━━━━━━━━━━━━╇━━━━━━━━━━━━━━━━━━━━━╇━━━━━━━━━━━━━━━━━━┩  │\n",
       "│ │ \u001b[38;5;141mdate                  \u001b[0m │ \u001b[36m     0\u001b[0m │ \u001b[36m        0\u001b[0m │ \u001b[31m    2021-04-01     \u001b[0m │ \u001b[31m    2024-03-01     \u001b[0m │ \u001b[38;5;141mNone            \u001b[0m │  │\n",
       "│ └────────────────────────┴────────┴───────────┴─────────────────────┴─────────────────────┴──────────────────┘  │\n",
       "│ \u001b[3m                                                    string                                                    \u001b[0m  │\n",
       "│ ┏━━━━━━━━━━━━━━━━━━━━━━━━━━━━━━━━━━┳━━━━━━━━┳━━━━━━━━━━━┳━━━━━━━━━━━━━━━━━━━━━━━━━━━━┳━━━━━━━━━━━━━━━━━━━━━━━┓  │\n",
       "│ ┃\u001b[1m \u001b[0m\u001b[1mcolumn_name                     \u001b[0m\u001b[1m \u001b[0m┃\u001b[1m \u001b[0m\u001b[1mNA    \u001b[0m\u001b[1m \u001b[0m┃\u001b[1m \u001b[0m\u001b[1mNA %     \u001b[0m\u001b[1m \u001b[0m┃\u001b[1m \u001b[0m\u001b[1mwords per row             \u001b[0m\u001b[1m \u001b[0m┃\u001b[1m \u001b[0m\u001b[1mtotal words          \u001b[0m\u001b[1m \u001b[0m┃  │\n",
       "│ ┡━━━━━━━━━━━━━━━━━━━━━━━━━━━━━━━━━━╇━━━━━━━━╇━━━━━━━━━━━╇━━━━━━━━━━━━━━━━━━━━━━━━━━━━╇━━━━━━━━━━━━━━━━━━━━━━━┩  │\n",
       "│ │ \u001b[38;5;141mvehicle_category                \u001b[0m │ \u001b[36m     0\u001b[0m │ \u001b[36m        0\u001b[0m │ \u001b[36m                         1\u001b[0m │ \u001b[36m                  816\u001b[0m │  │\n",
       "│ │ \u001b[38;5;141mmaker                           \u001b[0m │ \u001b[36m     0\u001b[0m │ \u001b[36m        0\u001b[0m │ \u001b[36m                       1.8\u001b[0m │ \u001b[36m                 1428\u001b[0m │  │\n",
       "│ └──────────────────────────────────┴────────┴───────────┴────────────────────────────┴───────────────────────┘  │\n",
       "╰────────────────────────────────────────────────────── End ──────────────────────────────────────────────────────╯\n"
      ]
     },
     "metadata": {},
     "output_type": "display_data"
    }
   ],
   "source": [
    "from skimpy import skim\n",
    "skim(df1)"
   ]
  },
  {
   "cell_type": "code",
   "execution_count": 46,
   "id": "c1b53f00-d5a0-46ed-b725-db4d852352ce",
   "metadata": {},
   "outputs": [
    {
     "name": "stdout",
     "output_type": "stream",
     "text": [
      "<class 'pandas.core.frame.DataFrame'>\n",
      "RangeIndex: 816 entries, 0 to 815\n",
      "Data columns (total 5 columns):\n",
      " #   Column                  Non-Null Count  Dtype         \n",
      "---  ------                  --------------  -----         \n",
      " 0   date                    816 non-null    datetime64[ns]\n",
      " 1   vehicle_category        816 non-null    object        \n",
      " 2   maker                   816 non-null    object        \n",
      " 3   electric_vehicles_sold  816 non-null    int64         \n",
      " 4   year                    816 non-null    int32         \n",
      "dtypes: datetime64[ns](1), int32(1), int64(1), object(2)\n",
      "memory usage: 28.8+ KB\n"
     ]
    }
   ],
   "source": [
    "df1.info()"
   ]
  },
  {
   "cell_type": "code",
   "execution_count": 47,
   "id": "f864a2c9-fa5f-4258-8275-281316993f78",
   "metadata": {},
   "outputs": [
    {
     "data": {
      "text/plain": [
       "date                       36\n",
       "vehicle_category            2\n",
       "maker                      26\n",
       "electric_vehicles_sold    603\n",
       "year                        4\n",
       "dtype: int64"
      ]
     },
     "execution_count": 47,
     "metadata": {},
     "output_type": "execute_result"
    }
   ],
   "source": [
    "df1.nunique()"
   ]
  },
  {
   "cell_type": "code",
   "execution_count": 48,
   "id": "1b897187-2776-43ac-86a7-cd33c8e6d142",
   "metadata": {},
   "outputs": [
    {
     "data": {
      "text/plain": [
       "maker\n",
       "OLA ELECTRIC           36\n",
       "Mahindra & Mahindra    36\n",
       "OTHERS                 36\n",
       "BAJAJ                  36\n",
       "REVOLT                 36\n",
       "TVS                    36\n",
       "ATHER                  36\n",
       "AMPERE                 36\n",
       "HERO ELECTRIC          36\n",
       "Hyundai Motor          36\n",
       "OKINAWA                36\n",
       "MG Motor               36\n",
       "Tata Motors            36\n",
       "Mercedes -Benz AG      36\n",
       "KIA Motors             36\n",
       "Volvo Auto India       36\n",
       "BMW India              36\n",
       "PCA Automobiles        36\n",
       "BYD India              36\n",
       "OKAYA EV               24\n",
       "PURE EV                24\n",
       "BEING                  24\n",
       "JITENDRA               24\n",
       "BGAUSS                 12\n",
       "BATTRE ELECTRIC        12\n",
       "KINETIC GREEN          12\n",
       "Name: count, dtype: int64"
      ]
     },
     "execution_count": 48,
     "metadata": {},
     "output_type": "execute_result"
    }
   ],
   "source": [
    "df1[\"maker\"].value_counts()"
   ]
  },
  {
   "cell_type": "code",
   "execution_count": 49,
   "id": "3306fa8d-4749-4060-858f-2c65c9db1588",
   "metadata": {},
   "outputs": [
    {
     "data": {
      "text/plain": [
       "date                      0\n",
       "vehicle_category          0\n",
       "maker                     0\n",
       "electric_vehicles_sold    0\n",
       "year                      0\n",
       "dtype: int64"
      ]
     },
     "execution_count": 49,
     "metadata": {},
     "output_type": "execute_result"
    }
   ],
   "source": [
    "df1.isnull().sum()"
   ]
  },
  {
   "cell_type": "code",
   "execution_count": null,
   "id": "da9325c9-c227-4a6b-bd53-e05db1b52dac",
   "metadata": {},
   "outputs": [],
   "source": []
  },
  {
   "cell_type": "code",
   "execution_count": 50,
   "id": "535f8c49-b28d-46b8-ab87-2ed7aad100a5",
   "metadata": {},
   "outputs": [],
   "source": [
    "df2=pd.read_csv(\"dim_date.csv\")"
   ]
  },
  {
   "cell_type": "code",
   "execution_count": 51,
   "id": "d6fbfecb-9900-4385-bbc8-5656027aa91b",
   "metadata": {},
   "outputs": [
    {
     "data": {
      "text/html": [
       "<div>\n",
       "<style scoped>\n",
       "    .dataframe tbody tr th:only-of-type {\n",
       "        vertical-align: middle;\n",
       "    }\n",
       "\n",
       "    .dataframe tbody tr th {\n",
       "        vertical-align: top;\n",
       "    }\n",
       "\n",
       "    .dataframe thead th {\n",
       "        text-align: right;\n",
       "    }\n",
       "</style>\n",
       "<table border=\"1\" class=\"dataframe\">\n",
       "  <thead>\n",
       "    <tr style=\"text-align: right;\">\n",
       "      <th></th>\n",
       "      <th>date</th>\n",
       "      <th>fiscal_year</th>\n",
       "      <th>quarter</th>\n",
       "    </tr>\n",
       "  </thead>\n",
       "  <tbody>\n",
       "    <tr>\n",
       "      <th>0</th>\n",
       "      <td>01-Apr-21</td>\n",
       "      <td>2022</td>\n",
       "      <td>Q1</td>\n",
       "    </tr>\n",
       "    <tr>\n",
       "      <th>1</th>\n",
       "      <td>01-May-21</td>\n",
       "      <td>2022</td>\n",
       "      <td>Q1</td>\n",
       "    </tr>\n",
       "    <tr>\n",
       "      <th>2</th>\n",
       "      <td>01-Jun-21</td>\n",
       "      <td>2022</td>\n",
       "      <td>Q1</td>\n",
       "    </tr>\n",
       "    <tr>\n",
       "      <th>3</th>\n",
       "      <td>01-Jul-21</td>\n",
       "      <td>2022</td>\n",
       "      <td>Q2</td>\n",
       "    </tr>\n",
       "    <tr>\n",
       "      <th>4</th>\n",
       "      <td>01-Aug-21</td>\n",
       "      <td>2022</td>\n",
       "      <td>Q2</td>\n",
       "    </tr>\n",
       "  </tbody>\n",
       "</table>\n",
       "</div>"
      ],
      "text/plain": [
       "        date  fiscal_year quarter\n",
       "0  01-Apr-21         2022      Q1\n",
       "1  01-May-21         2022      Q1\n",
       "2  01-Jun-21         2022      Q1\n",
       "3  01-Jul-21         2022      Q2\n",
       "4  01-Aug-21         2022      Q2"
      ]
     },
     "execution_count": 51,
     "metadata": {},
     "output_type": "execute_result"
    }
   ],
   "source": [
    "df2.head()"
   ]
  },
  {
   "cell_type": "code",
   "execution_count": 52,
   "id": "c633fbdb-a12d-4aab-94c6-d888d07e864f",
   "metadata": {},
   "outputs": [
    {
     "data": {
      "text/plain": [
       "date           0\n",
       "fiscal_year    0\n",
       "quarter        0\n",
       "dtype: int64"
      ]
     },
     "execution_count": 52,
     "metadata": {},
     "output_type": "execute_result"
    }
   ],
   "source": [
    "df2.isnull().sum()"
   ]
  },
  {
   "cell_type": "code",
   "execution_count": 53,
   "id": "cc08961d-2365-4baa-9dc2-04be64774c59",
   "metadata": {},
   "outputs": [
    {
     "name": "stdout",
     "output_type": "stream",
     "text": [
      "<class 'pandas.core.frame.DataFrame'>\n",
      "RangeIndex: 36 entries, 0 to 35\n",
      "Data columns (total 3 columns):\n",
      " #   Column       Non-Null Count  Dtype \n",
      "---  ------       --------------  ----- \n",
      " 0   date         36 non-null     object\n",
      " 1   fiscal_year  36 non-null     int64 \n",
      " 2   quarter      36 non-null     object\n",
      "dtypes: int64(1), object(2)\n",
      "memory usage: 996.0+ bytes\n"
     ]
    }
   ],
   "source": [
    "df2.info()"
   ]
  },
  {
   "cell_type": "code",
   "execution_count": 54,
   "id": "62c7a36b-b2fd-4050-aaf3-45db2c6037bc",
   "metadata": {},
   "outputs": [
    {
     "name": "stderr",
     "output_type": "stream",
     "text": [
      "/var/folders/5y/fdpz56f55cb6jc5jsgbq17140000gn/T/ipykernel_44742/3489528276.py:2: UserWarning: Could not infer format, so each element will be parsed individually, falling back to `dateutil`. To ensure parsing is consistent and as-expected, please specify a format.\n",
      "  df2['date']= pd.to_datetime(df2['date'],errors='coerce')\n"
     ]
    }
   ],
   "source": [
    "#we can see date is in object so we can change it to date timeframe.\n",
    "df2['date']= pd.to_datetime(df2['date'],errors='coerce')"
   ]
  },
  {
   "cell_type": "code",
   "execution_count": 55,
   "id": "12bf77d7-0fbc-4fee-a531-eb5c587ade0a",
   "metadata": {},
   "outputs": [
    {
     "name": "stdout",
     "output_type": "stream",
     "text": [
      "<class 'pandas.core.frame.DataFrame'>\n",
      "RangeIndex: 36 entries, 0 to 35\n",
      "Data columns (total 3 columns):\n",
      " #   Column       Non-Null Count  Dtype         \n",
      "---  ------       --------------  -----         \n",
      " 0   date         36 non-null     datetime64[ns]\n",
      " 1   fiscal_year  36 non-null     int64         \n",
      " 2   quarter      36 non-null     object        \n",
      "dtypes: datetime64[ns](1), int64(1), object(1)\n",
      "memory usage: 996.0+ bytes\n"
     ]
    }
   ],
   "source": [
    "df2.info()"
   ]
  },
  {
   "cell_type": "code",
   "execution_count": 56,
   "id": "712b8115-add3-4cf2-bf18-66eb7946413c",
   "metadata": {},
   "outputs": [],
   "source": [
    "#let's find the ansswer of the given questions."
   ]
  },
  {
   "cell_type": "code",
   "execution_count": 57,
   "id": "a37adcc1-6926-4203-9afb-3470ae7b5bce",
   "metadata": {},
   "outputs": [],
   "source": [
    "#List the top 3 and bottom 3 makers for the fiscal years 2023 and 2024 interms of the number of 2-wheelers sold."
   ]
  },
  {
   "cell_type": "code",
   "execution_count": 58,
   "id": "c540bbce-75ad-4595-8c8f-928654d595b9",
   "metadata": {},
   "outputs": [
    {
     "data": {
      "text/plain": [
       "Index(['date', 'vehicle_category', 'maker', 'electric_vehicles_sold', 'year'], dtype='object')"
      ]
     },
     "execution_count": 58,
     "metadata": {},
     "output_type": "execute_result"
    }
   ],
   "source": [
    "df1.columns"
   ]
  },
  {
   "cell_type": "code",
   "execution_count": 59,
   "id": "453cc7e8-3622-4287-a94d-fe38fe03d526",
   "metadata": {},
   "outputs": [],
   "source": [
    "filter_data = df1[(df1[\"year\"].isin([2023, 2024])) & (df1[\"vehicle_category\"] == \"2-Wheelers\")]"
   ]
  },
  {
   "cell_type": "code",
   "execution_count": 60,
   "id": "67feb85e-56da-49a6-89ca-7ed63ab55519",
   "metadata": {},
   "outputs": [],
   "source": [
    "grouped_data= filter_data.groupby(\"maker\")['electric_vehicles_sold'].sum().reset_index()"
   ]
  },
  {
   "cell_type": "code",
   "execution_count": 61,
   "id": "c0d01699-c04f-4eb0-ad2c-9d5dd321c81f",
   "metadata": {},
   "outputs": [],
   "source": [
    "sorted_data= grouped_data.sort_values(by='electric_vehicles_sold', ascending= False)"
   ]
  },
  {
   "cell_type": "code",
   "execution_count": 62,
   "id": "2bf0111f-5d50-48b0-8dc6-2918cec086c0",
   "metadata": {},
   "outputs": [
    {
     "data": {
      "text/html": [
       "<div>\n",
       "<style scoped>\n",
       "    .dataframe tbody tr th:only-of-type {\n",
       "        vertical-align: middle;\n",
       "    }\n",
       "\n",
       "    .dataframe tbody tr th {\n",
       "        vertical-align: top;\n",
       "    }\n",
       "\n",
       "    .dataframe thead th {\n",
       "        text-align: right;\n",
       "    }\n",
       "</style>\n",
       "<table border=\"1\" class=\"dataframe\">\n",
       "  <thead>\n",
       "    <tr style=\"text-align: right;\">\n",
       "      <th></th>\n",
       "      <th>maker</th>\n",
       "      <th>electric_vehicles_sold</th>\n",
       "    </tr>\n",
       "  </thead>\n",
       "  <tbody>\n",
       "    <tr>\n",
       "      <th>11</th>\n",
       "      <td>OLA ELECTRIC</td>\n",
       "      <td>125575</td>\n",
       "    </tr>\n",
       "    <tr>\n",
       "      <th>15</th>\n",
       "      <td>TVS</td>\n",
       "      <td>63502</td>\n",
       "    </tr>\n",
       "    <tr>\n",
       "      <th>0</th>\n",
       "      <td>AMPERE</td>\n",
       "      <td>54069</td>\n",
       "    </tr>\n",
       "  </tbody>\n",
       "</table>\n",
       "</div>"
      ],
      "text/plain": [
       "           maker  electric_vehicles_sold\n",
       "11  OLA ELECTRIC                  125575\n",
       "15           TVS                   63502\n",
       "0         AMPERE                   54069"
      ]
     },
     "execution_count": 62,
     "metadata": {},
     "output_type": "execute_result"
    }
   ],
   "source": [
    "sorted_data.head(3)"
   ]
  },
  {
   "cell_type": "code",
   "execution_count": 63,
   "id": "e1bb223e-d763-4389-bf12-35614ada3774",
   "metadata": {},
   "outputs": [
    {
     "data": {
      "text/plain": [
       "(array([0, 1, 2]),\n",
       " [Text(0, 0, 'OLA ELECTRIC'), Text(1, 0, 'TVS'), Text(2, 0, 'AMPERE')])"
      ]
     },
     "execution_count": 63,
     "metadata": {},
     "output_type": "execute_result"
    },
    {
     "data": {
      "image/png": "[encoded data removed]",
      "text/plain": [
       "<Figure size 640x480 with 1 Axes>"
      ]
     },
     "metadata": {},
     "output_type": "display_data"
    }
   ],
   "source": [
    "sns.barplot(data=sorted_data.head(3), x=\"maker\", y=\"electric_vehicles_sold\")\n",
    "plt.xticks(rotation=45)"
   ]
  },
  {
   "cell_type": "code",
   "execution_count": 64,
   "id": "08a75a85-4102-4580-9c94-1168b370a306",
   "metadata": {},
   "outputs": [
    {
     "data": {
      "text/html": [
       "<div>\n",
       "<style scoped>\n",
       "    .dataframe tbody tr th:only-of-type {\n",
       "        vertical-align: middle;\n",
       "    }\n",
       "\n",
       "    .dataframe tbody tr th {\n",
       "        vertical-align: top;\n",
       "    }\n",
       "\n",
       "    .dataframe thead th {\n",
       "        text-align: right;\n",
       "    }\n",
       "</style>\n",
       "<table border=\"1\" class=\"dataframe\">\n",
       "  <thead>\n",
       "    <tr style=\"text-align: right;\">\n",
       "      <th></th>\n",
       "      <th>maker</th>\n",
       "      <th>electric_vehicles_sold</th>\n",
       "    </tr>\n",
       "  </thead>\n",
       "  <tbody>\n",
       "    <tr>\n",
       "      <th>7</th>\n",
       "      <td>JITENDRA</td>\n",
       "      <td>3033</td>\n",
       "    </tr>\n",
       "    <tr>\n",
       "      <th>3</th>\n",
       "      <td>BATTRE ELECTRIC</td>\n",
       "      <td>2116</td>\n",
       "    </tr>\n",
       "    <tr>\n",
       "      <th>8</th>\n",
       "      <td>KINETIC GREEN</td>\n",
       "      <td>2104</td>\n",
       "    </tr>\n",
       "  </tbody>\n",
       "</table>\n",
       "</div>"
      ],
      "text/plain": [
       "             maker  electric_vehicles_sold\n",
       "7         JITENDRA                    3033\n",
       "3  BATTRE ELECTRIC                    2116\n",
       "8    KINETIC GREEN                    2104"
      ]
     },
     "execution_count": 64,
     "metadata": {},
     "output_type": "execute_result"
    }
   ],
   "source": [
    "sorted_data.tail(3)"
   ]
  },
  {
   "cell_type": "code",
   "execution_count": 65,
   "id": "ca483f61-adf1-4d7f-810a-76b70f6a92ac",
   "metadata": {},
   "outputs": [
    {
     "data": {
      "text/plain": [
       "(array([0, 1, 2]),\n",
       " [Text(0, 0, 'JITENDRA'),\n",
       "  Text(1, 0, 'BATTRE ELECTRIC'),\n",
       "  Text(2, 0, 'KINETIC GREEN')])"
      ]
     },
     "execution_count": 65,
     "metadata": {},
     "output_type": "execute_result"
    },
    {
     "data": {
      "image/png": "[encoded data removed]",
      "text/plain": [
       "<Figure size 640x480 with 1 Axes>"
      ]
     },
     "metadata": {},
     "output_type": "display_data"
    }
   ],
   "source": [
    "sns.barplot(data=sorted_data.tail(3), x=\"maker\", y=\"electric_vehicles_sold\")\n",
    "plt.xticks(rotation=45)"
   ]
  },
  {
   "cell_type": "code",
   "execution_count": 66,
   "id": "9af71a00-c5cb-48f5-a127-58babe8fc8d9",
   "metadata": {},
   "outputs": [],
   "source": [
    "#Q2 Identify the top 5 states with the highest penetration rate in 2-wheeler and 4-wheeler EV sales in FY 2024."
   ]
  },
  {
   "cell_type": "code",
   "execution_count": 67,
   "id": "288b3a5b-11a4-40a6-bd4c-e0a4e8137598",
   "metadata": {},
   "outputs": [
    {
     "data": {
      "text/plain": [
       "Index(['date', 'state', 'vehicle_category', 'electric_vehicles_sold',\n",
       "       'total_vehicles_sold', 'year'],\n",
       "      dtype='object')"
      ]
     },
     "execution_count": 67,
     "metadata": {},
     "output_type": "execute_result"
    }
   ],
   "source": [
    "df.columns"
   ]
  },
  {
   "cell_type": "code",
   "execution_count": 68,
   "id": "9074a540-b7df-489b-ada8-cfd0f1ca4779",
   "metadata": {},
   "outputs": [],
   "source": [
    "df['penetration_rate'] = df[\"electric_vehicles_sold\"] / df[(\"total_vehicles_sold\")] * 100"
   ]
  },
  {
   "cell_type": "code",
   "execution_count": 69,
   "id": "704edeab-9abb-4df4-a0f0-bfbfaff93b3f",
   "metadata": {},
   "outputs": [],
   "source": [
    "df_2024_2w= df[(df[\"year\"] ==2024) & (df[\"vehicle_category\"] == \"2-Wheelers\")]"
   ]
  },
  {
   "cell_type": "code",
   "execution_count": 70,
   "id": "ec150a2e-f3fb-410c-bdc2-938bef8e8e20",
   "metadata": {},
   "outputs": [],
   "source": [
    "grouped_data_2w = df_2024_2w.groupby(\"state\")['penetration_rate'].sum().reset_index()"
   ]
  },
  {
   "cell_type": "code",
   "execution_count": 71,
   "id": "3505543a-e6e6-4af7-b79d-c089c62ad877",
   "metadata": {},
   "outputs": [],
   "source": [
    "sorted_data_2w= grouped_data_2w.sort_values(by=\"penetration_rate\", ascending= False)"
   ]
  },
  {
   "cell_type": "code",
   "execution_count": 72,
   "id": "76843ef2-961d-49c6-bbfe-838dda84654a",
   "metadata": {},
   "outputs": [
    {
     "data": {
      "text/html": [
       "<div>\n",
       "<style scoped>\n",
       "    .dataframe tbody tr th:only-of-type {\n",
       "        vertical-align: middle;\n",
       "    }\n",
       "\n",
       "    .dataframe tbody tr th {\n",
       "        vertical-align: top;\n",
       "    }\n",
       "\n",
       "    .dataframe thead th {\n",
       "        text-align: right;\n",
       "    }\n",
       "</style>\n",
       "<table border=\"1\" class=\"dataframe\">\n",
       "  <thead>\n",
       "    <tr style=\"text-align: right;\">\n",
       "      <th></th>\n",
       "      <th>state</th>\n",
       "      <th>penetration_rate</th>\n",
       "    </tr>\n",
       "  </thead>\n",
       "  <tbody>\n",
       "    <tr>\n",
       "      <th>10</th>\n",
       "      <td>Goa</td>\n",
       "      <td>71.958678</td>\n",
       "    </tr>\n",
       "    <tr>\n",
       "      <th>17</th>\n",
       "      <td>Kerala</td>\n",
       "      <td>48.799677</td>\n",
       "    </tr>\n",
       "    <tr>\n",
       "      <th>16</th>\n",
       "      <td>Karnataka</td>\n",
       "      <td>40.659867</td>\n",
       "    </tr>\n",
       "    <tr>\n",
       "      <th>18</th>\n",
       "      <td>Ladakh</td>\n",
       "      <td>37.837838</td>\n",
       "    </tr>\n",
       "    <tr>\n",
       "      <th>20</th>\n",
       "      <td>Maharashtra</td>\n",
       "      <td>37.239936</td>\n",
       "    </tr>\n",
       "  </tbody>\n",
       "</table>\n",
       "</div>"
      ],
      "text/plain": [
       "          state  penetration_rate\n",
       "10          Goa         71.958678\n",
       "17       Kerala         48.799677\n",
       "16    Karnataka         40.659867\n",
       "18       Ladakh         37.837838\n",
       "20  Maharashtra         37.239936"
      ]
     },
     "execution_count": 72,
     "metadata": {},
     "output_type": "execute_result"
    }
   ],
   "source": [
    "sorted_data_2w.head(5)"
   ]
  },
  {
   "cell_type": "code",
   "execution_count": 73,
   "id": "2f2bc018-d8fc-4e1d-8a1f-7431e1c93f0d",
   "metadata": {},
   "outputs": [
    {
     "data": {
      "text/plain": [
       "(array([0, 1, 2, 3, 4]),\n",
       " [Text(0, 0, 'Goa'),\n",
       "  Text(1, 0, 'Kerala'),\n",
       "  Text(2, 0, 'Karnataka'),\n",
       "  Text(3, 0, 'Ladakh'),\n",
       "  Text(4, 0, 'Maharashtra')])"
      ]
     },
     "execution_count": 73,
     "metadata": {},
     "output_type": "execute_result"
    },
    {
     "data": {
      "image/png": "[encoded data removed]",
      "text/plain": [
       "<Figure size 640x480 with 1 Axes>"
      ]
     },
     "metadata": {},
     "output_type": "display_data"
    }
   ],
   "source": [
    "sns.barplot(sorted_data_2w.head(), x=\"state\", y=\"penetration_rate\")\n",
    "plt.xticks(rotation=45)"
   ]
  },
  {
   "cell_type": "code",
   "execution_count": 74,
   "id": "30d5ecf8-1fe3-4f91-9cfe-ee97abda200a",
   "metadata": {},
   "outputs": [],
   "source": [
    "df_2024_4w= df[(df[\"year\"]==2024) & (df[\"vehicle_category\"]== \"4-Wheelers\")]"
   ]
  },
  {
   "cell_type": "code",
   "execution_count": 75,
   "id": "f9de61f6-260a-47c7-a455-801776042b8e",
   "metadata": {},
   "outputs": [],
   "source": [
    "grouped_data_4w= df_2024_4w.groupby(\"state\")[\"penetration_rate\"].sum().reset_index()"
   ]
  },
  {
   "cell_type": "code",
   "execution_count": 76,
   "id": "c8550b3d-85fc-4873-ac8b-4781ee4ee603",
   "metadata": {},
   "outputs": [],
   "source": [
    "sorted_data_4w = grouped_data_4w.sort_values(by=\"penetration_rate\", ascending= False)"
   ]
  },
  {
   "cell_type": "code",
   "execution_count": 77,
   "id": "d1648b5a-bceb-4972-9c51-d332c868f42c",
   "metadata": {},
   "outputs": [
    {
     "data": {
      "text/html": [
       "<div>\n",
       "<style scoped>\n",
       "    .dataframe tbody tr th:only-of-type {\n",
       "        vertical-align: middle;\n",
       "    }\n",
       "\n",
       "    .dataframe tbody tr th {\n",
       "        vertical-align: top;\n",
       "    }\n",
       "\n",
       "    .dataframe thead th {\n",
       "        text-align: right;\n",
       "    }\n",
       "</style>\n",
       "<table border=\"1\" class=\"dataframe\">\n",
       "  <thead>\n",
       "    <tr style=\"text-align: right;\">\n",
       "      <th></th>\n",
       "      <th>state</th>\n",
       "      <th>penetration_rate</th>\n",
       "    </tr>\n",
       "  </thead>\n",
       "  <tbody>\n",
       "    <tr>\n",
       "      <th>17</th>\n",
       "      <td>Kerala</td>\n",
       "      <td>459.450445</td>\n",
       "    </tr>\n",
       "    <tr>\n",
       "      <th>6</th>\n",
       "      <td>Chandigarh</td>\n",
       "      <td>21.774321</td>\n",
       "    </tr>\n",
       "    <tr>\n",
       "      <th>10</th>\n",
       "      <td>Goa</td>\n",
       "      <td>16.386138</td>\n",
       "    </tr>\n",
       "    <tr>\n",
       "      <th>9</th>\n",
       "      <td>Delhi</td>\n",
       "      <td>15.219717</td>\n",
       "    </tr>\n",
       "    <tr>\n",
       "      <th>16</th>\n",
       "      <td>Karnataka</td>\n",
       "      <td>12.769866</td>\n",
       "    </tr>\n",
       "  </tbody>\n",
       "</table>\n",
       "</div>"
      ],
      "text/plain": [
       "         state  penetration_rate\n",
       "17      Kerala        459.450445\n",
       "6   Chandigarh         21.774321\n",
       "10         Goa         16.386138\n",
       "9        Delhi         15.219717\n",
       "16   Karnataka         12.769866"
      ]
     },
     "execution_count": 77,
     "metadata": {},
     "output_type": "execute_result"
    }
   ],
   "source": [
    "sorted_data_4w.head(5)"
   ]
  },
  {
   "cell_type": "code",
   "execution_count": 78,
   "id": "e64ec7dc-0d37-473a-9569-32f37a21fd11",
   "metadata": {},
   "outputs": [
    {
     "data": {
      "text/plain": [
       "(array([0, 1, 2, 3, 4]),\n",
       " [Text(0, 0, 'Kerala'),\n",
       "  Text(1, 0, 'Chandigarh'),\n",
       "  Text(2, 0, 'Goa'),\n",
       "  Text(3, 0, 'Delhi'),\n",
       "  Text(4, 0, 'Karnataka')])"
      ]
     },
     "execution_count": 78,
     "metadata": {},
     "output_type": "execute_result"
    },
    {
     "data": {
      "image/png": "[encoded data removed]",
      "text/plain": [
       "<Figure size 640x480 with 1 Axes>"
      ]
     },
     "metadata": {},
     "output_type": "display_data"
    }
   ],
   "source": [
    "sns.barplot(data=sorted_data_4w.head(), x=\"state\", y=\"penetration_rate\")\n",
    "plt.xticks(rotation=45)"
   ]
  },
  {
   "cell_type": "code",
   "execution_count": 79,
   "id": "d43245e0-ac27-4b81-b88c-9713e17e2b1e",
   "metadata": {},
   "outputs": [],
   "source": [
    "#q3  List the states with negative penetration (decline) in EV sales from 2022 to 2024?\n",
    "\n",
    "df_2022_sale = df[(df[\"year\"]==2022)]"
   ]
  },
  {
   "cell_type": "code",
   "execution_count": 80,
   "id": "0127f35b-fcb9-4df5-bf45-43d5f70cce52",
   "metadata": {},
   "outputs": [],
   "source": [
    "grouped_data_sale= df_2022_sale.groupby(\"state\")[\"penetration_rate\"].sum().reset_index()"
   ]
  },
  {
   "cell_type": "code",
   "execution_count": 81,
   "id": "b5927dd9-ab07-48b1-8b32-eb204b845484",
   "metadata": {},
   "outputs": [],
   "source": [
    "sorted_data_sale_2022 = grouped_data_sale.sort_values(by=\"penetration_rate\", ascending= False)"
   ]
  },
  {
   "cell_type": "code",
   "execution_count": 82,
   "id": "31b57dd1-08b1-4333-8f1c-e18492bb707f",
   "metadata": {},
   "outputs": [
    {
     "data": {
      "text/html": [
       "<div>\n",
       "<style scoped>\n",
       "    .dataframe tbody tr th:only-of-type {\n",
       "        vertical-align: middle;\n",
       "    }\n",
       "\n",
       "    .dataframe tbody tr th {\n",
       "        vertical-align: top;\n",
       "    }\n",
       "\n",
       "    .dataframe thead th {\n",
       "        text-align: right;\n",
       "    }\n",
       "</style>\n",
       "<table border=\"1\" class=\"dataframe\">\n",
       "  <thead>\n",
       "    <tr style=\"text-align: right;\">\n",
       "      <th></th>\n",
       "      <th>state</th>\n",
       "      <th>penetration_rate</th>\n",
       "    </tr>\n",
       "  </thead>\n",
       "  <tbody>\n",
       "    <tr>\n",
       "      <th>21</th>\n",
       "      <td>Meghalaya</td>\n",
       "      <td>2.570402</td>\n",
       "    </tr>\n",
       "    <tr>\n",
       "      <th>22</th>\n",
       "      <td>Mizoram</td>\n",
       "      <td>2.107291</td>\n",
       "    </tr>\n",
       "    <tr>\n",
       "      <th>23</th>\n",
       "      <td>Nagaland</td>\n",
       "      <td>0.645003</td>\n",
       "    </tr>\n",
       "    <tr>\n",
       "      <th>2</th>\n",
       "      <td>Arunachal Pradesh</td>\n",
       "      <td>0.213705</td>\n",
       "    </tr>\n",
       "    <tr>\n",
       "      <th>28</th>\n",
       "      <td>Sikkim</td>\n",
       "      <td>0.000000</td>\n",
       "    </tr>\n",
       "  </tbody>\n",
       "</table>\n",
       "</div>"
      ],
      "text/plain": [
       "                state  penetration_rate\n",
       "21          Meghalaya          2.570402\n",
       "22            Mizoram          2.107291\n",
       "23           Nagaland          0.645003\n",
       "2   Arunachal Pradesh          0.213705\n",
       "28             Sikkim          0.000000"
      ]
     },
     "execution_count": 82,
     "metadata": {},
     "output_type": "execute_result"
    }
   ],
   "source": [
    "sorted_data_sale_2022.tail()"
   ]
  },
  {
   "cell_type": "code",
   "execution_count": 83,
   "id": "21823303-3844-4dc8-a391-2eff41f2e65a",
   "metadata": {},
   "outputs": [
    {
     "data": {
      "text/plain": [
       "(array([0, 1, 2, 3, 4]),\n",
       " [Text(0, 0, 'Meghalaya'),\n",
       "  Text(1, 0, 'Mizoram'),\n",
       "  Text(2, 0, 'Nagaland'),\n",
       "  Text(3, 0, 'Arunachal Pradesh'),\n",
       "  Text(4, 0, 'Sikkim')])"
      ]
     },
     "execution_count": 83,
     "metadata": {},
     "output_type": "execute_result"
    },
    {
     "data": {
      "image/png": "[encoded data removed]",
      "text/plain": [
       "<Figure size 640x480 with 1 Axes>"
      ]
     },
     "metadata": {},
     "output_type": "display_data"
    }
   ],
   "source": [
    "sns.barplot(data=sorted_data_sale_2022.tail(), x=\"state\", y=\"penetration_rate\")\n",
    "plt.xticks(rotation=45)"
   ]
  },
  {
   "cell_type": "code",
   "execution_count": 84,
   "id": "9578971d-4b9f-49ec-b113-94dc884cd7ab",
   "metadata": {},
   "outputs": [],
   "source": [
    "df_2024_sale= df[(df[\"year\"]==2024)]"
   ]
  },
  {
   "cell_type": "code",
   "execution_count": 85,
   "id": "e259d3f1-ef00-4025-981f-fda6910c7d43",
   "metadata": {},
   "outputs": [],
   "source": [
    "grouped_data_sale= df_2024_sale.groupby(\"state\")[\"penetration_rate\"].sum().reset_index()"
   ]
  },
  {
   "cell_type": "code",
   "execution_count": 86,
   "id": "6e2e19da-9916-4ab2-994e-2fa67a87adb9",
   "metadata": {},
   "outputs": [],
   "source": [
    "sorted_data_sale_2024 = grouped_data_sale.sort_values(by=\"penetration_rate\", ascending=False)"
   ]
  },
  {
   "cell_type": "code",
   "execution_count": 87,
   "id": "4cd14431-6842-48bf-9a21-302cc3c09b78",
   "metadata": {},
   "outputs": [
    {
     "data": {
      "text/html": [
       "<div>\n",
       "<style scoped>\n",
       "    .dataframe tbody tr th:only-of-type {\n",
       "        vertical-align: middle;\n",
       "    }\n",
       "\n",
       "    .dataframe tbody tr th {\n",
       "        vertical-align: top;\n",
       "    }\n",
       "\n",
       "    .dataframe thead th {\n",
       "        text-align: right;\n",
       "    }\n",
       "</style>\n",
       "<table border=\"1\" class=\"dataframe\">\n",
       "  <thead>\n",
       "    <tr style=\"text-align: right;\">\n",
       "      <th></th>\n",
       "      <th>state</th>\n",
       "      <th>penetration_rate</th>\n",
       "    </tr>\n",
       "  </thead>\n",
       "  <tbody>\n",
       "    <tr>\n",
       "      <th>1</th>\n",
       "      <td>Andaman &amp; Nicobar Island</td>\n",
       "      <td>2.689907</td>\n",
       "    </tr>\n",
       "    <tr>\n",
       "      <th>3</th>\n",
       "      <td>Arunachal Pradesh</td>\n",
       "      <td>0.856239</td>\n",
       "    </tr>\n",
       "    <tr>\n",
       "      <th>0</th>\n",
       "      <td>Andaman &amp; Nicobar</td>\n",
       "      <td>0.414079</td>\n",
       "    </tr>\n",
       "    <tr>\n",
       "      <th>24</th>\n",
       "      <td>Nagaland</td>\n",
       "      <td>0.291146</td>\n",
       "    </tr>\n",
       "    <tr>\n",
       "      <th>29</th>\n",
       "      <td>Sikkim</td>\n",
       "      <td>0.000000</td>\n",
       "    </tr>\n",
       "  </tbody>\n",
       "</table>\n",
       "</div>"
      ],
      "text/plain": [
       "                       state  penetration_rate\n",
       "1   Andaman & Nicobar Island          2.689907\n",
       "3          Arunachal Pradesh          0.856239\n",
       "0          Andaman & Nicobar          0.414079\n",
       "24                  Nagaland          0.291146\n",
       "29                    Sikkim          0.000000"
      ]
     },
     "execution_count": 87,
     "metadata": {},
     "output_type": "execute_result"
    }
   ],
   "source": [
    "sorted_data_sale_2024.tail()"
   ]
  },
  {
   "cell_type": "code",
   "execution_count": 88,
   "id": "007cfa53-e306-4a39-ac7d-944c95cdb986",
   "metadata": {},
   "outputs": [
    {
     "data": {
      "text/plain": [
       "(array([0, 1, 2, 3, 4]),\n",
       " [Text(0, 0, 'Andaman & Nicobar Island'),\n",
       "  Text(1, 0, 'Arunachal Pradesh'),\n",
       "  Text(2, 0, 'Andaman & Nicobar'),\n",
       "  Text(3, 0, 'Nagaland'),\n",
       "  Text(4, 0, 'Sikkim')])"
      ]
     },
     "execution_count": 88,
     "metadata": {},
     "output_type": "execute_result"
    },
    {
     "data": {
      "image/png": "[encoded data removed]",
      "text/plain": [
       "<Figure size 640x480 with 1 Axes>"
      ]
     },
     "metadata": {},
     "output_type": "display_data"
    }
   ],
   "source": [
    "sns.barplot(data=sorted_data_sale_2024.tail(), x=\"state\", y=\"penetration_rate\")\n",
    "plt.xticks(rotation=45)"
   ]
  },
  {
   "cell_type": "code",
   "execution_count": 89,
   "id": "dd6cca95-b0c1-4b13-a4a1-7ec8fb26b465",
   "metadata": {},
   "outputs": [],
   "source": [
    "#q4How do the EV sales and penetration rates in Delhi compare to Karnataka for 2024?\n",
    "\n",
    "#filter the year for the 2024\n",
    "ev_2024 = df[(df[\"year\"]==2024)]"
   ]
  },
  {
   "cell_type": "code",
   "execution_count": 90,
   "id": "f470d28b-3bb4-45b4-94b9-5a0638d0955e",
   "metadata": {},
   "outputs": [
    {
     "name": "stdout",
     "output_type": "stream",
     "text": [
      "Delhi EV Data for 2024:\n",
      "           date  state vehicle_category  electric_vehicles_sold  \\\n",
      "1370 2024-01-01  Delhi       4-Wheelers                    1345   \n",
      "1400 2024-02-01  Delhi       4-Wheelers                     596   \n",
      "1425 2024-03-01  Delhi       4-Wheelers                     897   \n",
      "2361 2024-01-01  Delhi       2-Wheelers                    3073   \n",
      "2394 2024-02-01  Delhi       2-Wheelers                    2364   \n",
      "2420 2024-03-01  Delhi       2-Wheelers                    5002   \n",
      "\n",
      "      total_vehicles_sold  year  penetration_rate  \n",
      "1370                21520  2024          6.250000  \n",
      "1400                17898  2024          3.329981  \n",
      "1425                15905  2024          5.639736  \n",
      "2361                38413  2024          7.999896  \n",
      "2394                30504  2024          7.749803  \n",
      "2420                31599  2024         15.829615  \n",
      "\n",
      "Karnataka EV Data for 2024:\n",
      "           date      state vehicle_category  electric_vehicles_sold  \\\n",
      "1365 2024-01-01  Karnataka       4-Wheelers                    1080   \n",
      "1393 2024-02-01  Karnataka       4-Wheelers                     923   \n",
      "1422 2024-03-01  Karnataka       4-Wheelers                    1482   \n",
      "2356 2024-01-01  Karnataka       2-Wheelers                   12415   \n",
      "2387 2024-02-01  Karnataka       2-Wheelers                   12605   \n",
      "2417 2024-03-01  Karnataka       2-Wheelers                   22742   \n",
      "\n",
      "      total_vehicles_sold  year  penetration_rate  \n",
      "1365                30770  2024          3.509912  \n",
      "1393                24812  2024          3.719974  \n",
      "1422                26751  2024          5.539980  \n",
      "2356               115920  2024         10.709972  \n",
      "2387               108852  2024         11.579943  \n",
      "2417               123800  2024         18.369952  \n"
     ]
    }
   ],
   "source": [
    "#filter the states now\n",
    "# Compare EV sales and penetration rates for Delhi and Karnataka\n",
    "delhi_data = ev_2024[ev_2024['state'] == 'Delhi']\n",
    "karnataka_data = ev_2024[ev_2024['state'] == 'Karnataka']\n",
    "\n",
    "print(\"Delhi EV Data for 2024:\")\n",
    "print(delhi_data)\n",
    "\n",
    "print(\"\\nKarnataka EV Data for 2024:\")\n",
    "print(karnataka_data)"
   ]
  },
  {
   "cell_type": "code",
   "execution_count": 91,
   "id": "664746a8-9040-4ebd-b470-556a084ebd61",
   "metadata": {},
   "outputs": [],
   "source": [
    "# Additional analysis or comparison\n",
    "sales_difference = delhi_data['electric_vehicles_sold'].values[0] - karnataka_data['electric_vehicles_sold'].values[0]\n",
    "penetration_difference = delhi_data['penetration_rate'].values[0] - karnataka_data['penetration_rate'].values[0]"
   ]
  },
  {
   "cell_type": "code",
   "execution_count": 92,
   "id": "1d123297-701c-4320-9e31-bcdac095e53c",
   "metadata": {},
   "outputs": [
    {
     "name": "stdout",
     "output_type": "stream",
     "text": [
      "265\n"
     ]
    }
   ],
   "source": [
    "print(sales_difference)"
   ]
  },
  {
   "cell_type": "code",
   "execution_count": 93,
   "id": "6c869e0b-6ed6-41e1-b2e3-91ee50a9db66",
   "metadata": {},
   "outputs": [
    {
     "name": "stdout",
     "output_type": "stream",
     "text": [
      "2.74\n"
     ]
    }
   ],
   "source": [
    "print(round(penetration_difference,2))"
   ]
  },
  {
   "cell_type": "code",
   "execution_count": 94,
   "id": "6b9c83f1-3160-438b-b6f2-e0d9de9688da",
   "metadata": {},
   "outputs": [
    {
     "data": {
      "text/plain": [
       "Index(['date', 'vehicle_category', 'maker', 'electric_vehicles_sold', 'year'], dtype='object')"
      ]
     },
     "execution_count": 94,
     "metadata": {},
     "output_type": "execute_result"
    }
   ],
   "source": [
    "#q5 What are the quarterly trends based on sales volume for the top 5 EV makers (4-wheelers) from 2022 to 2024?\n",
    "df1.columns"
   ]
  },
  {
   "cell_type": "code",
   "execution_count": 95,
   "id": "3b9e1fcc-7138-4b9f-8bc1-9cc527534e9d",
   "metadata": {},
   "outputs": [],
   "source": [
    "df1['quarter'] = df1['date'].dt.to_period('Q')"
   ]
  },
  {
   "cell_type": "code",
   "execution_count": 96,
   "id": "339caaf2-7f8f-44a6-a7f4-da70cd4295db",
   "metadata": {},
   "outputs": [
    {
     "data": {
      "text/html": [
       "<div>\n",
       "<style scoped>\n",
       "    .dataframe tbody tr th:only-of-type {\n",
       "        vertical-align: middle;\n",
       "    }\n",
       "\n",
       "    .dataframe tbody tr th {\n",
       "        vertical-align: top;\n",
       "    }\n",
       "\n",
       "    .dataframe thead th {\n",
       "        text-align: right;\n",
       "    }\n",
       "</style>\n",
       "<table border=\"1\" class=\"dataframe\">\n",
       "  <thead>\n",
       "    <tr style=\"text-align: right;\">\n",
       "      <th></th>\n",
       "      <th>date</th>\n",
       "      <th>vehicle_category</th>\n",
       "      <th>maker</th>\n",
       "      <th>electric_vehicles_sold</th>\n",
       "      <th>year</th>\n",
       "      <th>quarter</th>\n",
       "    </tr>\n",
       "  </thead>\n",
       "  <tbody>\n",
       "    <tr>\n",
       "      <th>0</th>\n",
       "      <td>2021-04-01</td>\n",
       "      <td>2-Wheelers</td>\n",
       "      <td>OLA ELECTRIC</td>\n",
       "      <td>0</td>\n",
       "      <td>2021</td>\n",
       "      <td>2021Q2</td>\n",
       "    </tr>\n",
       "    <tr>\n",
       "      <th>1</th>\n",
       "      <td>2022-04-01</td>\n",
       "      <td>2-Wheelers</td>\n",
       "      <td>OKAYA EV</td>\n",
       "      <td>0</td>\n",
       "      <td>2021</td>\n",
       "      <td>2022Q2</td>\n",
       "    </tr>\n",
       "    <tr>\n",
       "      <th>2</th>\n",
       "      <td>2021-05-01</td>\n",
       "      <td>2-Wheelers</td>\n",
       "      <td>OLA ELECTRIC</td>\n",
       "      <td>0</td>\n",
       "      <td>2021</td>\n",
       "      <td>2021Q2</td>\n",
       "    </tr>\n",
       "    <tr>\n",
       "      <th>3</th>\n",
       "      <td>2021-06-01</td>\n",
       "      <td>2-Wheelers</td>\n",
       "      <td>OLA ELECTRIC</td>\n",
       "      <td>0</td>\n",
       "      <td>2021</td>\n",
       "      <td>2021Q2</td>\n",
       "    </tr>\n",
       "    <tr>\n",
       "      <th>4</th>\n",
       "      <td>2021-07-01</td>\n",
       "      <td>2-Wheelers</td>\n",
       "      <td>OLA ELECTRIC</td>\n",
       "      <td>0</td>\n",
       "      <td>2021</td>\n",
       "      <td>2021Q3</td>\n",
       "    </tr>\n",
       "  </tbody>\n",
       "</table>\n",
       "</div>"
      ],
      "text/plain": [
       "        date vehicle_category         maker  electric_vehicles_sold  year  \\\n",
       "0 2021-04-01       2-Wheelers  OLA ELECTRIC                       0  2021   \n",
       "1 2022-04-01       2-Wheelers      OKAYA EV                       0  2021   \n",
       "2 2021-05-01       2-Wheelers  OLA ELECTRIC                       0  2021   \n",
       "3 2021-06-01       2-Wheelers  OLA ELECTRIC                       0  2021   \n",
       "4 2021-07-01       2-Wheelers  OLA ELECTRIC                       0  2021   \n",
       "\n",
       "  quarter  \n",
       "0  2021Q2  \n",
       "1  2022Q2  \n",
       "2  2021Q2  \n",
       "3  2021Q2  \n",
       "4  2021Q3  "
      ]
     },
     "execution_count": 96,
     "metadata": {},
     "output_type": "execute_result"
    }
   ],
   "source": [
    "df1.head()"
   ]
  },
  {
   "cell_type": "code",
   "execution_count": 97,
   "id": "5b283c9d-959f-42dd-94b5-05a306b974ac",
   "metadata": {},
   "outputs": [],
   "source": [
    "filter_data_qa = df1[(df1[\"year\"].isin([2022, 2024])) & (df1[\"vehicle_category\"] == \"4-Wheelers\")]"
   ]
  },
  {
   "cell_type": "code",
   "execution_count": 98,
   "id": "205a74f9-e6cd-4f08-939b-7e91dbf71734",
   "metadata": {},
   "outputs": [],
   "source": [
    "grouped_data_qa = filter_data_qa.groupby(\"maker\")[\"electric_vehicles_sold\"].sum().reset_index()"
   ]
  },
  {
   "cell_type": "code",
   "execution_count": 99,
   "id": "964df9c1-5b46-4c60-b4f5-4915333b106a",
   "metadata": {},
   "outputs": [],
   "source": [
    "sorted_data_qa= grouped_data_qa.sort_values(by=\"electric_vehicles_sold\", ascending= False)"
   ]
  },
  {
   "cell_type": "code",
   "execution_count": 100,
   "id": "a744631d-2d49-42ba-8891-66eef65a25e5",
   "metadata": {},
   "outputs": [
    {
     "data": {
      "text/html": [
       "<div>\n",
       "<style scoped>\n",
       "    .dataframe tbody tr th:only-of-type {\n",
       "        vertical-align: middle;\n",
       "    }\n",
       "\n",
       "    .dataframe tbody tr th {\n",
       "        vertical-align: top;\n",
       "    }\n",
       "\n",
       "    .dataframe thead th {\n",
       "        text-align: right;\n",
       "    }\n",
       "</style>\n",
       "<table border=\"1\" class=\"dataframe\">\n",
       "  <thead>\n",
       "    <tr style=\"text-align: right;\">\n",
       "      <th></th>\n",
       "      <th>maker</th>\n",
       "      <th>electric_vehicles_sold</th>\n",
       "    </tr>\n",
       "  </thead>\n",
       "  <tbody>\n",
       "    <tr>\n",
       "      <th>8</th>\n",
       "      <td>Tata Motors</td>\n",
       "      <td>49292</td>\n",
       "    </tr>\n",
       "    <tr>\n",
       "      <th>5</th>\n",
       "      <td>Mahindra &amp; Mahindra</td>\n",
       "      <td>16817</td>\n",
       "    </tr>\n",
       "    <tr>\n",
       "      <th>4</th>\n",
       "      <td>MG Motor</td>\n",
       "      <td>6241</td>\n",
       "    </tr>\n",
       "    <tr>\n",
       "      <th>1</th>\n",
       "      <td>BYD India</td>\n",
       "      <td>1482</td>\n",
       "    </tr>\n",
       "    <tr>\n",
       "      <th>2</th>\n",
       "      <td>Hyundai Motor</td>\n",
       "      <td>1033</td>\n",
       "    </tr>\n",
       "  </tbody>\n",
       "</table>\n",
       "</div>"
      ],
      "text/plain": [
       "                 maker  electric_vehicles_sold\n",
       "8          Tata Motors                   49292\n",
       "5  Mahindra & Mahindra                   16817\n",
       "4             MG Motor                    6241\n",
       "1            BYD India                    1482\n",
       "2        Hyundai Motor                    1033"
      ]
     },
     "execution_count": 100,
     "metadata": {},
     "output_type": "execute_result"
    }
   ],
   "source": [
    "sorted_data_qa.head()"
   ]
  },
  {
   "cell_type": "code",
   "execution_count": 101,
   "id": "2f22b732-ccca-4c84-a9e2-940ebf44ae2e",
   "metadata": {},
   "outputs": [
    {
     "data": {
      "text/plain": [
       "(array([0, 1, 2, 3, 4]),\n",
       " [Text(0, 0, 'Tata Motors'),\n",
       "  Text(1, 0, 'Mahindra & Mahindra'),\n",
       "  Text(2, 0, 'MG Motor'),\n",
       "  Text(3, 0, 'BYD India'),\n",
       "  Text(4, 0, 'Hyundai Motor')])"
      ]
     },
     "execution_count": 101,
     "metadata": {},
     "output_type": "execute_result"
    },
    {
     "data": {
      "image/png": "[encoded data removed]",
      "text/plain": [
       "<Figure size 640x480 with 1 Axes>"
      ]
     },
     "metadata": {},
     "output_type": "display_data"
    }
   ],
   "source": [
    "sns.barplot(data=sorted_data_qa.head(), x=\"maker\", y=\"electric_vehicles_sold\")\n",
    "plt.xticks(rotation=45)"
   ]
  },
  {
   "cell_type": "markdown",
   "id": "509861cc-db7a-4300-979d-6f6a1d471d6d",
   "metadata": {},
   "source": [
    "'''Q4-What are the quarterly trends based on sales volume for the top 5 EV makers (4-wheelers) from 2022 to 2024?'''"
   ]
  },
  {
   "cell_type": "code",
   "execution_count": 103,
   "id": "87453ee3-9a66-463c-9c6f-7c6f2e1671c3",
   "metadata": {},
   "outputs": [
    {
     "data": {
      "text/plain": [
       "Index(['date', 'vehicle_category', 'maker', 'electric_vehicles_sold', 'year',\n",
       "       'quarter'],\n",
       "      dtype='object')"
      ]
     },
     "execution_count": 103,
     "metadata": {},
     "output_type": "execute_result"
    }
   ],
   "source": [
    "df1.columns"
   ]
  },
  {
   "cell_type": "code",
   "execution_count": 104,
   "id": "7dc96a76-4a9f-41fc-8978-4254651cb7d4",
   "metadata": {},
   "outputs": [],
   "source": [
    "#filter_data = df1[(df1[\"year\"].isin([2023, 2024])) & (df1[\"vehicle_category\"] == \"2-Wheelers\")]"
   ]
  },
  {
   "cell_type": "code",
   "execution_count": 105,
   "id": "62f980d3-53ac-4422-adbf-372b1ae83f2d",
   "metadata": {},
   "outputs": [],
   "source": [
    "filtered_data_df1= df1[(df1[\"year\"].isin([2022,2024])) & (df1[\"vehicle_category\"]== \"4-Wheelers\")]"
   ]
  },
  {
   "cell_type": "code",
   "execution_count": 106,
   "id": "2c465608-d4fb-4eaa-8d8a-0883fe4b8624",
   "metadata": {},
   "outputs": [],
   "source": [
    "grouped_data_df1 = filtered_data_df1.groupby([\"maker\",\"quarter\"])[\"electric_vehicles_sold\"].sum().reset_index()"
   ]
  },
  {
   "cell_type": "code",
   "execution_count": 107,
   "id": "08788f8f-2045-443e-b481-18f7a9e434c2",
   "metadata": {},
   "outputs": [],
   "source": [
    "sorted_data_df1 = grouped_data_df1.sort_values(by=\"electric_vehicles_sold\", ascending= False)"
   ]
  },
  {
   "cell_type": "code",
   "execution_count": 108,
   "id": "2edaf193-3f9f-4597-a0c3-89613c22f516",
   "metadata": {},
   "outputs": [
    {
     "data": {
      "text/html": [
       "<div>\n",
       "<style scoped>\n",
       "    .dataframe tbody tr th:only-of-type {\n",
       "        vertical-align: middle;\n",
       "    }\n",
       "\n",
       "    .dataframe tbody tr th {\n",
       "        vertical-align: top;\n",
       "    }\n",
       "\n",
       "    .dataframe thead th {\n",
       "        text-align: right;\n",
       "    }\n",
       "</style>\n",
       "<table border=\"1\" class=\"dataframe\">\n",
       "  <thead>\n",
       "    <tr style=\"text-align: right;\">\n",
       "      <th></th>\n",
       "      <th>maker</th>\n",
       "      <th>quarter</th>\n",
       "      <th>electric_vehicles_sold</th>\n",
       "    </tr>\n",
       "  </thead>\n",
       "  <tbody>\n",
       "    <tr>\n",
       "      <th>64</th>\n",
       "      <td>Tata Motors</td>\n",
       "      <td>2024Q1</td>\n",
       "      <td>17361</td>\n",
       "    </tr>\n",
       "    <tr>\n",
       "      <th>62</th>\n",
       "      <td>Tata Motors</td>\n",
       "      <td>2023Q1</td>\n",
       "      <td>9528</td>\n",
       "    </tr>\n",
       "    <tr>\n",
       "      <th>63</th>\n",
       "      <td>Tata Motors</td>\n",
       "      <td>2023Q4</td>\n",
       "      <td>9325</td>\n",
       "    </tr>\n",
       "    <tr>\n",
       "      <th>60</th>\n",
       "      <td>Tata Motors</td>\n",
       "      <td>2022Q1</td>\n",
       "      <td>5834</td>\n",
       "    </tr>\n",
       "    <tr>\n",
       "      <th>40</th>\n",
       "      <td>Mahindra &amp; Mahindra</td>\n",
       "      <td>2023Q1</td>\n",
       "      <td>5243</td>\n",
       "    </tr>\n",
       "  </tbody>\n",
       "</table>\n",
       "</div>"
      ],
      "text/plain": [
       "                  maker quarter  electric_vehicles_sold\n",
       "64          Tata Motors  2024Q1                   17361\n",
       "62          Tata Motors  2023Q1                    9528\n",
       "63          Tata Motors  2023Q4                    9325\n",
       "60          Tata Motors  2022Q1                    5834\n",
       "40  Mahindra & Mahindra  2023Q1                    5243"
      ]
     },
     "execution_count": 108,
     "metadata": {},
     "output_type": "execute_result"
    }
   ],
   "source": [
    "sorted_data_df1.head()"
   ]
  },
  {
   "cell_type": "code",
   "execution_count": 109,
   "id": "2ead1991-fdc1-4ab2-93aa-56e5079997cb",
   "metadata": {},
   "outputs": [
    {
     "data": {
      "text/html": [
       "<div>\n",
       "<style scoped>\n",
       "    .dataframe tbody tr th:only-of-type {\n",
       "        vertical-align: middle;\n",
       "    }\n",
       "\n",
       "    .dataframe tbody tr th {\n",
       "        vertical-align: top;\n",
       "    }\n",
       "\n",
       "    .dataframe thead th {\n",
       "        text-align: right;\n",
       "    }\n",
       "</style>\n",
       "<table border=\"1\" class=\"dataframe\">\n",
       "  <thead>\n",
       "    <tr style=\"text-align: right;\">\n",
       "      <th>maker</th>\n",
       "      <th>BMW India</th>\n",
       "      <th>BYD India</th>\n",
       "      <th>Hyundai Motor</th>\n",
       "      <th>KIA Motors</th>\n",
       "      <th>MG Motor</th>\n",
       "      <th>Mahindra &amp; Mahindra</th>\n",
       "      <th>Mercedes -Benz AG</th>\n",
       "      <th>PCA Automobiles</th>\n",
       "      <th>Tata Motors</th>\n",
       "      <th>Volvo Auto India</th>\n",
       "    </tr>\n",
       "    <tr>\n",
       "      <th>quarter</th>\n",
       "      <th></th>\n",
       "      <th></th>\n",
       "      <th></th>\n",
       "      <th></th>\n",
       "      <th></th>\n",
       "      <th></th>\n",
       "      <th></th>\n",
       "      <th></th>\n",
       "      <th></th>\n",
       "      <th></th>\n",
       "    </tr>\n",
       "  </thead>\n",
       "  <tbody>\n",
       "    <tr>\n",
       "      <th>2021Q2</th>\n",
       "      <td>0.0</td>\n",
       "      <td>0.0</td>\n",
       "      <td>NaN</td>\n",
       "      <td>0.0</td>\n",
       "      <td>NaN</td>\n",
       "      <td>NaN</td>\n",
       "      <td>0.0</td>\n",
       "      <td>0.0</td>\n",
       "      <td>NaN</td>\n",
       "      <td>0.0</td>\n",
       "    </tr>\n",
       "    <tr>\n",
       "      <th>2021Q3</th>\n",
       "      <td>0.0</td>\n",
       "      <td>0.0</td>\n",
       "      <td>NaN</td>\n",
       "      <td>0.0</td>\n",
       "      <td>NaN</td>\n",
       "      <td>NaN</td>\n",
       "      <td>NaN</td>\n",
       "      <td>0.0</td>\n",
       "      <td>NaN</td>\n",
       "      <td>0.0</td>\n",
       "    </tr>\n",
       "    <tr>\n",
       "      <th>2021Q4</th>\n",
       "      <td>0.0</td>\n",
       "      <td>1.0</td>\n",
       "      <td>17.0</td>\n",
       "      <td>0.0</td>\n",
       "      <td>217.0</td>\n",
       "      <td>1014.0</td>\n",
       "      <td>3.0</td>\n",
       "      <td>0.0</td>\n",
       "      <td>2988.0</td>\n",
       "      <td>0.0</td>\n",
       "    </tr>\n",
       "    <tr>\n",
       "      <th>2022Q1</th>\n",
       "      <td>7.0</td>\n",
       "      <td>32.0</td>\n",
       "      <td>26.0</td>\n",
       "      <td>NaN</td>\n",
       "      <td>153.0</td>\n",
       "      <td>1653.0</td>\n",
       "      <td>10.0</td>\n",
       "      <td>NaN</td>\n",
       "      <td>5834.0</td>\n",
       "      <td>4.0</td>\n",
       "    </tr>\n",
       "    <tr>\n",
       "      <th>2022Q2</th>\n",
       "      <td>NaN</td>\n",
       "      <td>NaN</td>\n",
       "      <td>NaN</td>\n",
       "      <td>0.0</td>\n",
       "      <td>NaN</td>\n",
       "      <td>NaN</td>\n",
       "      <td>NaN</td>\n",
       "      <td>0.0</td>\n",
       "      <td>NaN</td>\n",
       "      <td>0.0</td>\n",
       "    </tr>\n",
       "  </tbody>\n",
       "</table>\n",
       "</div>"
      ],
      "text/plain": [
       "maker    BMW India  BYD India  Hyundai Motor  KIA Motors  MG Motor  \\\n",
       "quarter                                                              \n",
       "2021Q2         0.0        0.0            NaN         0.0       NaN   \n",
       "2021Q3         0.0        0.0            NaN         0.0       NaN   \n",
       "2021Q4         0.0        1.0           17.0         0.0     217.0   \n",
       "2022Q1         7.0       32.0           26.0         NaN     153.0   \n",
       "2022Q2         NaN        NaN            NaN         0.0       NaN   \n",
       "\n",
       "maker    Mahindra & Mahindra  Mercedes -Benz AG  PCA Automobiles  Tata Motors  \\\n",
       "quarter                                                                         \n",
       "2021Q2                   NaN                0.0              0.0          NaN   \n",
       "2021Q3                   NaN                NaN              0.0          NaN   \n",
       "2021Q4                1014.0                3.0              0.0       2988.0   \n",
       "2022Q1                1653.0               10.0              NaN       5834.0   \n",
       "2022Q2                   NaN                NaN              0.0          NaN   \n",
       "\n",
       "maker    Volvo Auto India  \n",
       "quarter                    \n",
       "2021Q2                0.0  \n",
       "2021Q3                0.0  \n",
       "2021Q4                0.0  \n",
       "2022Q1                4.0  \n",
       "2022Q2                0.0  "
      ]
     },
     "execution_count": 109,
     "metadata": {},
     "output_type": "execute_result"
    }
   ],
   "source": [
    "sroted_wide = sorted_data_df1.pivot(index=\"quarter\", columns=\"maker\", values=\"electric_vehicles_sold\")\n",
    "sroted_wide.head()"
   ]
  },
  {
   "cell_type": "code",
   "execution_count": 110,
   "id": "68cdf332-e895-42ea-ae0a-7cae2bd6c977",
   "metadata": {},
   "outputs": [
    {
     "name": "stderr",
     "output_type": "stream",
     "text": [
      "/opt/anaconda3/lib/python3.11/site-packages/seaborn/_oldcore.py:1119: FutureWarning: use_inf_as_na option is deprecated and will be removed in a future version. Convert inf values to NaN before operating instead.\n",
      "  with pd.option_context('mode.use_inf_as_na', True):\n",
      "/opt/anaconda3/lib/python3.11/site-packages/seaborn/_oldcore.py:1119: FutureWarning: use_inf_as_na option is deprecated and will be removed in a future version. Convert inf values to NaN before operating instead.\n",
      "  with pd.option_context('mode.use_inf_as_na', True):\n"
     ]
    },
    {
     "data": {
      "text/plain": [
       "<Axes: xlabel='maker', ylabel='electric_vehicles_sold'>"
      ]
     },
     "execution_count": 110,
     "metadata": {},
     "output_type": "execute_result"
    },
    {
     "data": {
      "image/png": "[encoded data removed]",
      "text/plain": [
       "<Figure size 640x480 with 1 Axes>"
      ]
     },
     "metadata": {},
     "output_type": "display_data"
    }
   ],
   "source": [
    "sns.lineplot(data=sorted_data_df1.head(), x=\"maker\", y=\"electric_vehicles_sold\", hue=\"quarter\")"
   ]
  },
  {
   "cell_type": "code",
   "execution_count": 111,
   "id": "c0a82bfe-6807-4769-a1e4-6eb87981d10a",
   "metadata": {},
   "outputs": [],
   "source": [
    "##List down the compounded annual growth rate (CAGR) in 4-wheeler units for the top 5 makers from 2022 to 2024."
   ]
  },
  {
   "cell_type": "code",
   "execution_count": 112,
   "id": "4c47746a-250e-4fc2-a018-806897e1c84d",
   "metadata": {},
   "outputs": [],
   "source": [
    "# Step 1: Filter data for 4-wheeler vehicles and the relevant years\n",
    "filtered_df1_cagr = df1[(df1[\"year\"].isin([2022,2024])) & (df1[\"vehicle_category\"]== \"4-Wheelers\")]"
   ]
  },
  {
   "cell_type": "code",
   "execution_count": 113,
   "id": "542c0566-2513-4c5b-9c59-4a5b18c76829",
   "metadata": {},
   "outputs": [],
   "source": [
    "# Step 2: Group by 'maker' and 'year', then sum the 'electric_vehicles_sold'\n",
    "grouped_df1_cagr = filtered_df1_cagr.groupby(['maker', 'year'])['electric_vehicles_sold'].sum().unstack(fill_value=0)"
   ]
  },
  {
   "cell_type": "code",
   "execution_count": 114,
   "id": "d976a433-aa9d-4973-bd67-66c7fe971893",
   "metadata": {},
   "outputs": [],
   "source": [
    "# Step 3: Calculate CAGR for each maker\n",
    "# Formula: ((End Value / Start Value) ** (1 / Number of Years)) - 1\n",
    "grouped_df1_cagr['CAGR'] = ((grouped_df1_cagr[2024] / grouped_df1_cagr[2022].replace(0,1)) ** (1 / 2)) - 1"
   ]
  },
  {
   "cell_type": "code",
   "execution_count": 115,
   "id": "7cd4cc52-632a-4528-b8f4-36cbdb3d492a",
   "metadata": {},
   "outputs": [],
   "source": [
    "# Step 4: Sort by total sales in 2024 to get top 5 makers\n",
    "top_5_makers = grouped_df1_cagr.sort_values(by=2024, ascending=False).head(5)"
   ]
  },
  {
   "cell_type": "code",
   "execution_count": 116,
   "id": "e748b274-38fd-45b1-919e-4dc69ea9ccfb",
   "metadata": {},
   "outputs": [
    {
     "data": {
      "text/html": [
       "<div>\n",
       "<style scoped>\n",
       "    .dataframe tbody tr th:only-of-type {\n",
       "        vertical-align: middle;\n",
       "    }\n",
       "\n",
       "    .dataframe tbody tr th {\n",
       "        vertical-align: top;\n",
       "    }\n",
       "\n",
       "    .dataframe thead th {\n",
       "        text-align: right;\n",
       "    }\n",
       "</style>\n",
       "<table border=\"1\" class=\"dataframe\">\n",
       "  <thead>\n",
       "    <tr style=\"text-align: right;\">\n",
       "      <th>year</th>\n",
       "      <th>CAGR</th>\n",
       "    </tr>\n",
       "    <tr>\n",
       "      <th>maker</th>\n",
       "      <th></th>\n",
       "    </tr>\n",
       "  </thead>\n",
       "  <tbody>\n",
       "    <tr>\n",
       "      <th>BMW India</th>\n",
       "      <td>-1.0</td>\n",
       "    </tr>\n",
       "    <tr>\n",
       "      <th>BYD India</th>\n",
       "      <td>-1.0</td>\n",
       "    </tr>\n",
       "    <tr>\n",
       "      <th>Hyundai Motor</th>\n",
       "      <td>-1.0</td>\n",
       "    </tr>\n",
       "    <tr>\n",
       "      <th>KIA Motors</th>\n",
       "      <td>-1.0</td>\n",
       "    </tr>\n",
       "    <tr>\n",
       "      <th>MG Motor</th>\n",
       "      <td>-1.0</td>\n",
       "    </tr>\n",
       "  </tbody>\n",
       "</table>\n",
       "</div>"
      ],
      "text/plain": [
       "year           CAGR\n",
       "maker              \n",
       "BMW India      -1.0\n",
       "BYD India      -1.0\n",
       "Hyundai Motor  -1.0\n",
       "KIA Motors     -1.0\n",
       "MG Motor       -1.0"
      ]
     },
     "execution_count": 116,
     "metadata": {},
     "output_type": "execute_result"
    }
   ],
   "source": [
    "# Step 5: Display top 5 makers and their CAGR\n",
    "top_5_makers[['CAGR']]"
   ]
  },
  {
   "cell_type": "code",
   "execution_count": 117,
   "id": "fc24328d-67ab-4b96-a3a4-95829a19662a",
   "metadata": {},
   "outputs": [
    {
     "data": {
      "text/plain": [
       "Index(['date', 'state', 'vehicle_category', 'electric_vehicles_sold',\n",
       "       'total_vehicles_sold', 'year', 'penetration_rate'],\n",
       "      dtype='object')"
      ]
     },
     "execution_count": 117,
     "metadata": {},
     "output_type": "execute_result"
    }
   ],
   "source": [
    "df.columns"
   ]
  },
  {
   "cell_type": "code",
   "execution_count": 118,
   "id": "19d37e75-a02d-4d51-b53c-0d289de5e5bb",
   "metadata": {},
   "outputs": [],
   "source": [
    "#List down the top 10 states that had the highest compounded annual growth rate (CAGR) from 2022 to 2024 in total vehicles sold."
   ]
  },
  {
   "cell_type": "code",
   "execution_count": 119,
   "id": "f3c5611c-faa0-4e41-891b-04d2d30f1d06",
   "metadata": {},
   "outputs": [],
   "source": [
    "filtered_df_cagr = df[(df[\"year\"].isin([2022,2024]))]"
   ]
  },
  {
   "cell_type": "code",
   "execution_count": 120,
   "id": "b24e6b44-2426-4804-b6cb-e1f889608ec1",
   "metadata": {},
   "outputs": [],
   "source": [
    "# Step 2: Group by 'maker' and 'year', then sum the 'electric_vehicles_sold'\n",
    "grouped_df_cagr = filtered_df_cagr.groupby(['state', 'year'])['total_vehicles_sold'].sum().unstack(fill_value=0)"
   ]
  },
  {
   "cell_type": "code",
   "execution_count": 121,
   "id": "4f90b9b4-6542-4d42-9072-a85fd331a49a",
   "metadata": {},
   "outputs": [],
   "source": [
    "grouped_df_cagr['CAGR'] = ((grouped_df_cagr[2024] / grouped_df_cagr[2022].replace(0,1)) ** (1 / 2)) - 1"
   ]
  },
  {
   "cell_type": "code",
   "execution_count": 122,
   "id": "1a9a7bcf-01bf-4c75-85b3-27f3fc0bf44b",
   "metadata": {},
   "outputs": [
    {
     "name": "stdout",
     "output_type": "stream",
     "text": [
      "Top 10 States with Highest CAGR from 2022 to 2024:\n",
      "year                    CAGR\n",
      "state                       \n",
      "Andaman & Nicobar  24.690465\n",
      "Nagaland           -0.378149\n",
      "Puducherry         -0.406331\n",
      "Assam              -0.416486\n",
      "Chhattisgarh       -0.426296\n",
      "Haryana            -0.429612\n",
      "Karnataka          -0.433611\n",
      "Meghalaya          -0.436088\n",
      "Tamil Nadu         -0.437902\n",
      "Mizoram            -0.446766\n"
     ]
    }
   ],
   "source": [
    "top_10_states = grouped_df_cagr.sort_values(by='CAGR', ascending=False).head(10)\n",
    "\n",
    "# Step 6: Display top 10 states and their CAGR\n",
    "print(\"Top 10 States with Highest CAGR from 2022 to 2024:\")\n",
    "print(top_10_states[['CAGR']])"
   ]
  },
  {
   "cell_type": "code",
   "execution_count": null,
   "id": "9d8df766-ebe5-4365-9adb-9886762ff5b5",
   "metadata": {},
   "outputs": [],
   "source": []
  }
 ],
 "metadata": {
  "kernelspec": {
   "display_name": "Python 3 (ipykernel)",
   "language": "python",
   "name": "python3"
  },
  "language_info": {
   "codemirror_mode": {
    "name": "ipython",
    "version": 3
   },
   "file_extension": ".py",
   "mimetype": "text/x-python",
   "name": "python",
   "nbconvert_exporter": "python",
   "pygments_lexer": "ipython3",
   "version": "3.11.7"
  }
 },
 "nbformat": 4,
 "nbformat_minor": 5
}
